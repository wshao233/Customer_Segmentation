{
 "cells": [
  {
   "cell_type": "markdown",
   "metadata": {},
   "source": [
    "# Project: Identify Customer Segments\n",
    "\n",
    "By creating customer segmentation and comparing to general population, one can know which part of the general population are more likely to be customer and which part are not. I analyzed demographics data for customers of a mail-order sales company in Germany, comparing it to demographics information for the general population.\n",
    "\n",
    "Here I used different approaches to pre-process the data, and then I used unsupervised learning techniques, PCA (Principle Componets Analysis) and k-NN (k-nearest neighbor algorithm), to perform customer segmentation and to identify the core customer traits of the company. "
   ]
  },
  {
   "cell_type": "code",
   "execution_count": 1,
   "metadata": {},
   "outputs": [],
   "source": [
    "# import libraries \n",
    "import numpy as np\n",
    "import pandas as pd\n",
    "import matplotlib.pyplot as plt\n",
    "import seaborn as sns\n",
    "from ast import literal_eval\n",
    "from sklearn.preprocessing import StandardScaler\n",
    "from sklearn.decomposition import PCA\n",
    "from sklearn.cluster import KMeans\n",
    "from sklearn.impute import SimpleImputer\n",
    "\n",
    "# magic word for producing visualizations in notebook\n",
    "\n",
    "%matplotlib inline"
   ]
  },
  {
   "cell_type": "markdown",
   "metadata": {},
   "source": [
    "### Step 0: Load the Data\n",
    "\n",
    "There are four files associated with this project (not including this one):\n",
    "\n",
    "- `zadias.csv`: Demographics data for the general population of Germany; 891211 persons (rows) x 366 features (columns).\n",
    "- `Udacity_CUSTOMERS_Subset.csv`: Demographics data for customers of a mail-order company; 191652 persons (rows) x 366 features (columns).\n",
    "- `Data_Dictionary.md`: Detailed information file about the features in the provided datasets.\n",
    "- `DIAS_Attributes_Values_2017.xlsx`: Summary of feature attributes for demographics data; 351 features (rows) x 4 columns\n",
    "\n",
    "Each row of the demographics files represents a single person, but also includes information outside of individuals, including information about their household, building, and neighborhood. This information will be used to cluster the general population into groups with similar demographic properties. Then, I will see how the people in the customers dataset fit into those created clusters. The hope here is that certain clusters are over-represented in the customers data, as compared to the general population; those over-represented clusters will be assumed to be part of the core userbase. This information can then be used for further applications, such as targeting for a marketing campaign.\n",
    "\n"
   ]
  },
  {
   "cell_type": "code",
   "execution_count": 97,
   "metadata": {},
   "outputs": [],
   "source": [
    "# Load in the general demographics data.\n",
    "azdias = pd.read_csv('zadias.csv', delimiter=',')\n",
    "\n",
    "# Load in the feature summary file.\n",
    "feat_info = pd.read_csv('AZDIAS_Feature_Summary.csv', delimiter=';')\n"
   ]
  },
  {
   "cell_type": "code",
   "execution_count": 88,
   "metadata": {},
   "outputs": [],
   "source": [
    "customers = pd.read_csv('Udacity_CUSTOMERS_Subset.csv', delimiter=';')"
   ]
  },
  {
   "cell_type": "code",
   "execution_count": 74,
   "metadata": {},
   "outputs": [
    {
     "data": {
      "text/html": [
       "<div>\n",
       "<style scoped>\n",
       "    .dataframe tbody tr th:only-of-type {\n",
       "        vertical-align: middle;\n",
       "    }\n",
       "\n",
       "    .dataframe tbody tr th {\n",
       "        vertical-align: top;\n",
       "    }\n",
       "\n",
       "    .dataframe thead th {\n",
       "        text-align: right;\n",
       "    }\n",
       "</style>\n",
       "<table border=\"1\" class=\"dataframe\">\n",
       "  <thead>\n",
       "    <tr style=\"text-align: right;\">\n",
       "      <th></th>\n",
       "      <th>LNR</th>\n",
       "      <th>AGER_TYP</th>\n",
       "      <th>AKT_DAT_KL</th>\n",
       "      <th>ALTER_HH</th>\n",
       "      <th>ALTER_KIND1</th>\n",
       "      <th>ALTER_KIND2</th>\n",
       "      <th>ALTER_KIND3</th>\n",
       "      <th>ALTER_KIND4</th>\n",
       "      <th>ALTERSKATEGORIE_FEIN</th>\n",
       "      <th>ANZ_HAUSHALTE_AKTIV</th>\n",
       "      <th>...</th>\n",
       "      <th>VHN</th>\n",
       "      <th>VK_DHT4A</th>\n",
       "      <th>VK_DISTANZ</th>\n",
       "      <th>VK_ZG11</th>\n",
       "      <th>W_KEIT_KIND_HH</th>\n",
       "      <th>WOHNDAUER_2008</th>\n",
       "      <th>WOHNLAGE</th>\n",
       "      <th>ZABEOTYP</th>\n",
       "      <th>ANREDE_KZ</th>\n",
       "      <th>ALTERSKATEGORIE_GROB</th>\n",
       "    </tr>\n",
       "  </thead>\n",
       "  <tbody>\n",
       "    <tr>\n",
       "      <th>0</th>\n",
       "      <td>910215</td>\n",
       "      <td>-1</td>\n",
       "      <td>NaN</td>\n",
       "      <td>NaN</td>\n",
       "      <td>NaN</td>\n",
       "      <td>NaN</td>\n",
       "      <td>NaN</td>\n",
       "      <td>NaN</td>\n",
       "      <td>NaN</td>\n",
       "      <td>NaN</td>\n",
       "      <td>...</td>\n",
       "      <td>NaN</td>\n",
       "      <td>NaN</td>\n",
       "      <td>NaN</td>\n",
       "      <td>NaN</td>\n",
       "      <td>NaN</td>\n",
       "      <td>NaN</td>\n",
       "      <td>NaN</td>\n",
       "      <td>3</td>\n",
       "      <td>1</td>\n",
       "      <td>2</td>\n",
       "    </tr>\n",
       "    <tr>\n",
       "      <th>1</th>\n",
       "      <td>910220</td>\n",
       "      <td>-1</td>\n",
       "      <td>9.0</td>\n",
       "      <td>0.0</td>\n",
       "      <td>NaN</td>\n",
       "      <td>NaN</td>\n",
       "      <td>NaN</td>\n",
       "      <td>NaN</td>\n",
       "      <td>21.0</td>\n",
       "      <td>11.0</td>\n",
       "      <td>...</td>\n",
       "      <td>4.0</td>\n",
       "      <td>8.0</td>\n",
       "      <td>11.0</td>\n",
       "      <td>10.0</td>\n",
       "      <td>3.0</td>\n",
       "      <td>9.0</td>\n",
       "      <td>4.0</td>\n",
       "      <td>5</td>\n",
       "      <td>2</td>\n",
       "      <td>1</td>\n",
       "    </tr>\n",
       "    <tr>\n",
       "      <th>2</th>\n",
       "      <td>910225</td>\n",
       "      <td>-1</td>\n",
       "      <td>9.0</td>\n",
       "      <td>17.0</td>\n",
       "      <td>NaN</td>\n",
       "      <td>NaN</td>\n",
       "      <td>NaN</td>\n",
       "      <td>NaN</td>\n",
       "      <td>17.0</td>\n",
       "      <td>10.0</td>\n",
       "      <td>...</td>\n",
       "      <td>2.0</td>\n",
       "      <td>9.0</td>\n",
       "      <td>9.0</td>\n",
       "      <td>6.0</td>\n",
       "      <td>3.0</td>\n",
       "      <td>9.0</td>\n",
       "      <td>2.0</td>\n",
       "      <td>5</td>\n",
       "      <td>2</td>\n",
       "      <td>3</td>\n",
       "    </tr>\n",
       "    <tr>\n",
       "      <th>3</th>\n",
       "      <td>910226</td>\n",
       "      <td>2</td>\n",
       "      <td>1.0</td>\n",
       "      <td>13.0</td>\n",
       "      <td>NaN</td>\n",
       "      <td>NaN</td>\n",
       "      <td>NaN</td>\n",
       "      <td>NaN</td>\n",
       "      <td>13.0</td>\n",
       "      <td>1.0</td>\n",
       "      <td>...</td>\n",
       "      <td>0.0</td>\n",
       "      <td>7.0</td>\n",
       "      <td>10.0</td>\n",
       "      <td>11.0</td>\n",
       "      <td>NaN</td>\n",
       "      <td>9.0</td>\n",
       "      <td>7.0</td>\n",
       "      <td>3</td>\n",
       "      <td>2</td>\n",
       "      <td>4</td>\n",
       "    </tr>\n",
       "    <tr>\n",
       "      <th>4</th>\n",
       "      <td>910241</td>\n",
       "      <td>-1</td>\n",
       "      <td>1.0</td>\n",
       "      <td>20.0</td>\n",
       "      <td>NaN</td>\n",
       "      <td>NaN</td>\n",
       "      <td>NaN</td>\n",
       "      <td>NaN</td>\n",
       "      <td>14.0</td>\n",
       "      <td>3.0</td>\n",
       "      <td>...</td>\n",
       "      <td>2.0</td>\n",
       "      <td>3.0</td>\n",
       "      <td>5.0</td>\n",
       "      <td>4.0</td>\n",
       "      <td>2.0</td>\n",
       "      <td>9.0</td>\n",
       "      <td>3.0</td>\n",
       "      <td>4</td>\n",
       "      <td>1</td>\n",
       "      <td>3</td>\n",
       "    </tr>\n",
       "  </tbody>\n",
       "</table>\n",
       "<p>5 rows × 366 columns</p>\n",
       "</div>"
      ],
      "text/plain": [
       "      LNR  AGER_TYP  AKT_DAT_KL  ALTER_HH  ALTER_KIND1  ALTER_KIND2  \\\n",
       "0  910215        -1         NaN       NaN          NaN          NaN   \n",
       "1  910220        -1         9.0       0.0          NaN          NaN   \n",
       "2  910225        -1         9.0      17.0          NaN          NaN   \n",
       "3  910226         2         1.0      13.0          NaN          NaN   \n",
       "4  910241        -1         1.0      20.0          NaN          NaN   \n",
       "\n",
       "   ALTER_KIND3  ALTER_KIND4  ALTERSKATEGORIE_FEIN  ANZ_HAUSHALTE_AKTIV  ...  \\\n",
       "0          NaN          NaN                   NaN                  NaN  ...   \n",
       "1          NaN          NaN                  21.0                 11.0  ...   \n",
       "2          NaN          NaN                  17.0                 10.0  ...   \n",
       "3          NaN          NaN                  13.0                  1.0  ...   \n",
       "4          NaN          NaN                  14.0                  3.0  ...   \n",
       "\n",
       "   VHN  VK_DHT4A  VK_DISTANZ  VK_ZG11  W_KEIT_KIND_HH  WOHNDAUER_2008  \\\n",
       "0  NaN       NaN         NaN      NaN             NaN             NaN   \n",
       "1  4.0       8.0        11.0     10.0             3.0             9.0   \n",
       "2  2.0       9.0         9.0      6.0             3.0             9.0   \n",
       "3  0.0       7.0        10.0     11.0             NaN             9.0   \n",
       "4  2.0       3.0         5.0      4.0             2.0             9.0   \n",
       "\n",
       "   WOHNLAGE ZABEOTYP ANREDE_KZ ALTERSKATEGORIE_GROB  \n",
       "0       NaN        3         1                    2  \n",
       "1       4.0        5         2                    1  \n",
       "2       2.0        5         2                    3  \n",
       "3       7.0        3         2                    4  \n",
       "4       3.0        4         1                    3  \n",
       "\n",
       "[5 rows x 366 columns]"
      ]
     },
     "execution_count": 74,
     "metadata": {},
     "output_type": "execute_result"
    }
   ],
   "source": [
    "# Check the structure of the data \n",
    "no_unamed = lambda x: 'Unnamed' not in x\n",
    "attributes_values = pd.read_excel('DIAS_Attributes_Values_2017.xlsx', header=1, usecols=no_unamed)\n",
    "attributes_info = pd.read_excel('DIAS_Information_Levels_Attributes.xlsx', header=1, usecols=no_unamed)\n",
    "azdias.head()"
   ]
  },
  {
   "cell_type": "code",
   "execution_count": 92,
   "metadata": {},
   "outputs": [
    {
     "data": {
      "text/html": [
       "<div>\n",
       "<style scoped>\n",
       "    .dataframe tbody tr th:only-of-type {\n",
       "        vertical-align: middle;\n",
       "    }\n",
       "\n",
       "    .dataframe tbody tr th {\n",
       "        vertical-align: top;\n",
       "    }\n",
       "\n",
       "    .dataframe thead th {\n",
       "        text-align: right;\n",
       "    }\n",
       "</style>\n",
       "<table border=\"1\" class=\"dataframe\">\n",
       "  <thead>\n",
       "    <tr style=\"text-align: right;\">\n",
       "      <th></th>\n",
       "      <th>Attribute</th>\n",
       "      <th>Description</th>\n",
       "      <th>Value</th>\n",
       "      <th>Meaning</th>\n",
       "    </tr>\n",
       "  </thead>\n",
       "  <tbody>\n",
       "    <tr>\n",
       "      <th>0</th>\n",
       "      <td>AGER_TYP</td>\n",
       "      <td>best-ager typology</td>\n",
       "      <td>-1</td>\n",
       "      <td>unknown</td>\n",
       "    </tr>\n",
       "    <tr>\n",
       "      <th>1</th>\n",
       "      <td>AGER_TYP</td>\n",
       "      <td>NaN</td>\n",
       "      <td>0</td>\n",
       "      <td>no classification possible</td>\n",
       "    </tr>\n",
       "    <tr>\n",
       "      <th>2</th>\n",
       "      <td>AGER_TYP</td>\n",
       "      <td>NaN</td>\n",
       "      <td>1</td>\n",
       "      <td>passive elderly</td>\n",
       "    </tr>\n",
       "    <tr>\n",
       "      <th>3</th>\n",
       "      <td>AGER_TYP</td>\n",
       "      <td>NaN</td>\n",
       "      <td>2</td>\n",
       "      <td>cultural elderly</td>\n",
       "    </tr>\n",
       "    <tr>\n",
       "      <th>4</th>\n",
       "      <td>AGER_TYP</td>\n",
       "      <td>NaN</td>\n",
       "      <td>3</td>\n",
       "      <td>experience-driven elderly</td>\n",
       "    </tr>\n",
       "  </tbody>\n",
       "</table>\n",
       "</div>"
      ],
      "text/plain": [
       "  Attribute         Description Value                     Meaning\n",
       "0  AGER_TYP  best-ager typology    -1                     unknown\n",
       "1  AGER_TYP                 NaN     0  no classification possible\n",
       "2  AGER_TYP                 NaN     1             passive elderly\n",
       "3  AGER_TYP                 NaN     2            cultural elderly\n",
       "4  AGER_TYP                 NaN     3   experience-driven elderly"
      ]
     },
     "execution_count": 92,
     "metadata": {},
     "output_type": "execute_result"
    }
   ],
   "source": [
    "attributes_values.head()\n"
   ]
  },
  {
   "cell_type": "code",
   "execution_count": 76,
   "metadata": {},
   "outputs": [
    {
     "data": {
      "text/html": [
       "<div>\n",
       "<style scoped>\n",
       "    .dataframe tbody tr th:only-of-type {\n",
       "        vertical-align: middle;\n",
       "    }\n",
       "\n",
       "    .dataframe tbody tr th {\n",
       "        vertical-align: top;\n",
       "    }\n",
       "\n",
       "    .dataframe thead th {\n",
       "        text-align: right;\n",
       "    }\n",
       "</style>\n",
       "<table border=\"1\" class=\"dataframe\">\n",
       "  <thead>\n",
       "    <tr style=\"text-align: right;\">\n",
       "      <th></th>\n",
       "      <th>Information level</th>\n",
       "      <th>Attribute</th>\n",
       "      <th>Description</th>\n",
       "      <th>Additional notes</th>\n",
       "    </tr>\n",
       "  </thead>\n",
       "  <tbody>\n",
       "    <tr>\n",
       "      <th>0</th>\n",
       "      <td>NaN</td>\n",
       "      <td>AGER_TYP</td>\n",
       "      <td>best-ager typology</td>\n",
       "      <td>in cooperation with Kantar TNS; the informatio...</td>\n",
       "    </tr>\n",
       "    <tr>\n",
       "      <th>1</th>\n",
       "      <td>Person</td>\n",
       "      <td>ALTERSKATEGORIE_GROB</td>\n",
       "      <td>age through prename analysis</td>\n",
       "      <td>modelled on millions of first name-age-referen...</td>\n",
       "    </tr>\n",
       "    <tr>\n",
       "      <th>2</th>\n",
       "      <td>NaN</td>\n",
       "      <td>ANREDE_KZ</td>\n",
       "      <td>gender</td>\n",
       "      <td>NaN</td>\n",
       "    </tr>\n",
       "    <tr>\n",
       "      <th>3</th>\n",
       "      <td>NaN</td>\n",
       "      <td>CJT_GESAMTTYP</td>\n",
       "      <td>Customer-Journey-Typology relating to the pref...</td>\n",
       "      <td>relating to the preferred information, marketi...</td>\n",
       "    </tr>\n",
       "    <tr>\n",
       "      <th>4</th>\n",
       "      <td>NaN</td>\n",
       "      <td>FINANZ_MINIMALIST</td>\n",
       "      <td>financial typology: low financial interest</td>\n",
       "      <td>Gfk-Typology based on a representative househo...</td>\n",
       "    </tr>\n",
       "  </tbody>\n",
       "</table>\n",
       "</div>"
      ],
      "text/plain": [
       "  Information level             Attribute  \\\n",
       "0               NaN              AGER_TYP   \n",
       "1            Person  ALTERSKATEGORIE_GROB   \n",
       "2               NaN             ANREDE_KZ   \n",
       "3               NaN         CJT_GESAMTTYP   \n",
       "4               NaN     FINANZ_MINIMALIST   \n",
       "\n",
       "                                         Description  \\\n",
       "0                                 best-ager typology   \n",
       "1                      age through prename analysis    \n",
       "2                                             gender   \n",
       "3  Customer-Journey-Typology relating to the pref...   \n",
       "4         financial typology: low financial interest   \n",
       "\n",
       "                                    Additional notes  \n",
       "0  in cooperation with Kantar TNS; the informatio...  \n",
       "1  modelled on millions of first name-age-referen...  \n",
       "2                                                NaN  \n",
       "3  relating to the preferred information, marketi...  \n",
       "4  Gfk-Typology based on a representative househo...  "
      ]
     },
     "execution_count": 76,
     "metadata": {},
     "output_type": "execute_result"
    }
   ],
   "source": [
    "attributes_info.head()"
   ]
  },
  {
   "cell_type": "code",
   "execution_count": 4,
   "metadata": {},
   "outputs": [
    {
     "name": "stdout",
     "output_type": "stream",
     "text": [
      "The dataset has 891221 rows\n",
      "The dataset has 366 columns\n"
     ]
    }
   ],
   "source": [
    "print('The dataset has',len(azdias) ,'rows')\n",
    "print('The dataset has',len(azdias.columns) ,'columns')"
   ]
  },
  {
   "cell_type": "code",
   "execution_count": 77,
   "metadata": {},
   "outputs": [
    {
     "data": {
      "text/html": [
       "<div>\n",
       "<style scoped>\n",
       "    .dataframe tbody tr th:only-of-type {\n",
       "        vertical-align: middle;\n",
       "    }\n",
       "\n",
       "    .dataframe tbody tr th {\n",
       "        vertical-align: top;\n",
       "    }\n",
       "\n",
       "    .dataframe thead th {\n",
       "        text-align: right;\n",
       "    }\n",
       "</style>\n",
       "<table border=\"1\" class=\"dataframe\">\n",
       "  <thead>\n",
       "    <tr style=\"text-align: right;\">\n",
       "      <th></th>\n",
       "      <th>Attribute</th>\n",
       "      <th>Description</th>\n",
       "      <th>Value</th>\n",
       "      <th>Meaning</th>\n",
       "    </tr>\n",
       "  </thead>\n",
       "  <tbody>\n",
       "    <tr>\n",
       "      <th>0</th>\n",
       "      <td>AGER_TYP</td>\n",
       "      <td>best-ager typology</td>\n",
       "      <td>-1</td>\n",
       "      <td>unknown</td>\n",
       "    </tr>\n",
       "    <tr>\n",
       "      <th>1</th>\n",
       "      <td>AGER_TYP</td>\n",
       "      <td>NaN</td>\n",
       "      <td>0</td>\n",
       "      <td>no classification possible</td>\n",
       "    </tr>\n",
       "    <tr>\n",
       "      <th>2</th>\n",
       "      <td>AGER_TYP</td>\n",
       "      <td>NaN</td>\n",
       "      <td>1</td>\n",
       "      <td>passive elderly</td>\n",
       "    </tr>\n",
       "    <tr>\n",
       "      <th>3</th>\n",
       "      <td>AGER_TYP</td>\n",
       "      <td>NaN</td>\n",
       "      <td>2</td>\n",
       "      <td>cultural elderly</td>\n",
       "    </tr>\n",
       "    <tr>\n",
       "      <th>4</th>\n",
       "      <td>AGER_TYP</td>\n",
       "      <td>NaN</td>\n",
       "      <td>3</td>\n",
       "      <td>experience-driven elderly</td>\n",
       "    </tr>\n",
       "    <tr>\n",
       "      <th>5</th>\n",
       "      <td>ALTERSKATEGORIE_GROB</td>\n",
       "      <td>age classification through prename analysis</td>\n",
       "      <td>-1, 0</td>\n",
       "      <td>unknown</td>\n",
       "    </tr>\n",
       "    <tr>\n",
       "      <th>6</th>\n",
       "      <td>ALTERSKATEGORIE_GROB</td>\n",
       "      <td>NaN</td>\n",
       "      <td>1</td>\n",
       "      <td>&lt; 30 years</td>\n",
       "    </tr>\n",
       "    <tr>\n",
       "      <th>7</th>\n",
       "      <td>ALTERSKATEGORIE_GROB</td>\n",
       "      <td>NaN</td>\n",
       "      <td>2</td>\n",
       "      <td>30 - 45 years</td>\n",
       "    </tr>\n",
       "    <tr>\n",
       "      <th>8</th>\n",
       "      <td>ALTERSKATEGORIE_GROB</td>\n",
       "      <td>NaN</td>\n",
       "      <td>3</td>\n",
       "      <td>46 - 60 years</td>\n",
       "    </tr>\n",
       "    <tr>\n",
       "      <th>9</th>\n",
       "      <td>ALTERSKATEGORIE_GROB</td>\n",
       "      <td>NaN</td>\n",
       "      <td>4</td>\n",
       "      <td>&gt; 60 years</td>\n",
       "    </tr>\n",
       "  </tbody>\n",
       "</table>\n",
       "</div>"
      ],
      "text/plain": [
       "              Attribute                                   Description  Value  \\\n",
       "0              AGER_TYP                            best-ager typology     -1   \n",
       "1              AGER_TYP                                           NaN      0   \n",
       "2              AGER_TYP                                           NaN      1   \n",
       "3              AGER_TYP                                           NaN      2   \n",
       "4              AGER_TYP                                           NaN      3   \n",
       "5  ALTERSKATEGORIE_GROB  age classification through prename analysis   -1, 0   \n",
       "6  ALTERSKATEGORIE_GROB                                           NaN      1   \n",
       "7  ALTERSKATEGORIE_GROB                                           NaN      2   \n",
       "8  ALTERSKATEGORIE_GROB                                           NaN      3   \n",
       "9  ALTERSKATEGORIE_GROB                                           NaN      4   \n",
       "\n",
       "                      Meaning  \n",
       "0                     unknown  \n",
       "1  no classification possible  \n",
       "2             passive elderly  \n",
       "3            cultural elderly  \n",
       "4   experience-driven elderly  \n",
       "5                     unknown  \n",
       "6                  < 30 years  \n",
       "7               30 - 45 years  \n",
       "8               46 - 60 years  \n",
       "9                  > 60 years  "
      ]
     },
     "execution_count": 77,
     "metadata": {},
     "output_type": "execute_result"
    }
   ],
   "source": [
    "attributes_values[\"Attribute\"] = attributes_values[\"Attribute\"].ffill()\n",
    "attributes_values.head(10)"
   ]
  },
  {
   "cell_type": "code",
   "execution_count": 78,
   "metadata": {},
   "outputs": [
    {
     "data": {
      "text/html": [
       "<div>\n",
       "<style scoped>\n",
       "    .dataframe tbody tr th:only-of-type {\n",
       "        vertical-align: middle;\n",
       "    }\n",
       "\n",
       "    .dataframe tbody tr th {\n",
       "        vertical-align: top;\n",
       "    }\n",
       "\n",
       "    .dataframe thead th {\n",
       "        text-align: right;\n",
       "    }\n",
       "</style>\n",
       "<table border=\"1\" class=\"dataframe\">\n",
       "  <thead>\n",
       "    <tr style=\"text-align: right;\">\n",
       "      <th></th>\n",
       "      <th>Attribute</th>\n",
       "      <th>Description</th>\n",
       "      <th>Value</th>\n",
       "      <th>Meaning</th>\n",
       "    </tr>\n",
       "  </thead>\n",
       "  <tbody>\n",
       "    <tr>\n",
       "      <th>0</th>\n",
       "      <td>AGER_TYP</td>\n",
       "      <td>best-ager typology</td>\n",
       "      <td>-1</td>\n",
       "      <td>unknown</td>\n",
       "    </tr>\n",
       "    <tr>\n",
       "      <th>5</th>\n",
       "      <td>ALTERSKATEGORIE_GROB</td>\n",
       "      <td>age classification through prename analysis</td>\n",
       "      <td>-1, 0</td>\n",
       "      <td>unknown</td>\n",
       "    </tr>\n",
       "    <tr>\n",
       "      <th>11</th>\n",
       "      <td>ALTER_HH</td>\n",
       "      <td>main age within the household</td>\n",
       "      <td>0</td>\n",
       "      <td>unknown / no main age detectable</td>\n",
       "    </tr>\n",
       "    <tr>\n",
       "      <th>33</th>\n",
       "      <td>ANREDE_KZ</td>\n",
       "      <td>gender</td>\n",
       "      <td>-1, 0</td>\n",
       "      <td>unknown</td>\n",
       "    </tr>\n",
       "    <tr>\n",
       "      <th>36</th>\n",
       "      <td>ANZ_HAUSHALTE_AKTIV</td>\n",
       "      <td>number of households in the building</td>\n",
       "      <td>…</td>\n",
       "      <td>numeric value (typically coded from 1-10)</td>\n",
       "    </tr>\n",
       "    <tr>\n",
       "      <th>...</th>\n",
       "      <td>...</td>\n",
       "      <td>...</td>\n",
       "      <td>...</td>\n",
       "      <td>...</td>\n",
       "    </tr>\n",
       "    <tr>\n",
       "      <th>2219</th>\n",
       "      <td>WOHNDAUER_2008</td>\n",
       "      <td>length of residence</td>\n",
       "      <td>-1, 0</td>\n",
       "      <td>unknown</td>\n",
       "    </tr>\n",
       "    <tr>\n",
       "      <th>2229</th>\n",
       "      <td>WOHNLAGE</td>\n",
       "      <td>residential-area</td>\n",
       "      <td>-1</td>\n",
       "      <td>unknown</td>\n",
       "    </tr>\n",
       "    <tr>\n",
       "      <th>2238</th>\n",
       "      <td>WACHSTUMSGEBIET_NB</td>\n",
       "      <td>growing area (population growth in the last 5 ...</td>\n",
       "      <td>-1, 0</td>\n",
       "      <td>unknown</td>\n",
       "    </tr>\n",
       "    <tr>\n",
       "      <th>2244</th>\n",
       "      <td>W_KEIT_KIND_HH</td>\n",
       "      <td>likelihood of a child present in this household</td>\n",
       "      <td>-1, 0</td>\n",
       "      <td>unknown</td>\n",
       "    </tr>\n",
       "    <tr>\n",
       "      <th>2251</th>\n",
       "      <td>ZABEOTYP</td>\n",
       "      <td>typification of energy consumers</td>\n",
       "      <td>-1, 9</td>\n",
       "      <td>unknown</td>\n",
       "    </tr>\n",
       "  </tbody>\n",
       "</table>\n",
       "<p>351 rows × 4 columns</p>\n",
       "</div>"
      ],
      "text/plain": [
       "                 Attribute                                        Description  \\\n",
       "0                 AGER_TYP                                 best-ager typology   \n",
       "5     ALTERSKATEGORIE_GROB       age classification through prename analysis    \n",
       "11                ALTER_HH                      main age within the household   \n",
       "33               ANREDE_KZ                                             gender   \n",
       "36     ANZ_HAUSHALTE_AKTIV               number of households in the building   \n",
       "...                    ...                                                ...   \n",
       "2219        WOHNDAUER_2008                                length of residence   \n",
       "2229              WOHNLAGE                                  residential-area    \n",
       "2238    WACHSTUMSGEBIET_NB  growing area (population growth in the last 5 ...   \n",
       "2244        W_KEIT_KIND_HH    likelihood of a child present in this household   \n",
       "2251              ZABEOTYP                   typification of energy consumers   \n",
       "\n",
       "      Value                                    Meaning  \n",
       "0        -1                                    unknown  \n",
       "5     -1, 0                                    unknown  \n",
       "11        0           unknown / no main age detectable  \n",
       "33    -1, 0                                    unknown  \n",
       "36        …  numeric value (typically coded from 1-10)  \n",
       "...     ...                                        ...  \n",
       "2219  -1, 0                                    unknown  \n",
       "2229     -1                                    unknown  \n",
       "2238  -1, 0                                    unknown  \n",
       "2244  -1, 0                                    unknown  \n",
       "2251  -1, 9                                    unknown  \n",
       "\n",
       "[351 rows x 4 columns]"
      ]
     },
     "execution_count": 78,
     "metadata": {},
     "output_type": "execute_result"
    }
   ],
   "source": [
    "attributes_values.dropna()"
   ]
  },
  {
   "cell_type": "code",
   "execution_count": 90,
   "metadata": {},
   "outputs": [],
   "source": [
    "attributes_list  = attributes_values.Attribute.unique().tolist()\n",
    "azdias_list = list(azdias.columns)\n",
    "customers_list = list(customers.columns)"
   ]
  },
  {
   "cell_type": "code",
   "execution_count": 93,
   "metadata": {},
   "outputs": [
    {
     "name": "stdout",
     "output_type": "stream",
     "text": [
      "No of columns common to 2 daframes:  272\n",
      "No of columns specific to azdias: 94\n",
      "No of columns specific to attributes: 42\n",
      "No of columns common between azdias and attributes: 272\n",
      "No of columns exclusive to attributes vs azdias: 42\n",
      "No of columns exclusive to azdias vs attributes: 42\n"
     ]
    }
   ],
   "source": [
    "common_to_all = (set(attributes_list) & set(azdias_list) )\n",
    "unique_to_azdias = (set(azdias_list) - set(attributes_list) )\n",
    "\n",
    "unique_to_attributes = (set(attributes_list)  - set(azdias_list))\n",
    "unique_to_attributes_vs_azdias = (set(attributes_list) - set(azdias_list))\n",
    "unique_to_azdias_vs_attributes = (set(attributes_list) - set(azdias_list))\n",
    "common_azdias_attributes = (set(azdias_list) & set(attributes_list))\n",
    "\n",
    "print(\"No of columns common to 2 daframes: \", str(len(common_to_all)))\n",
    "print(\"No of columns specific to azdias: \" + str(len(unique_to_azdias)))\n",
    "\n",
    "print(\"No of columns specific to attributes: \" + str(len(unique_to_attributes)))\n",
    "print(\"No of columns common between azdias and attributes: \" + str(len(common_azdias_attributes)))\n",
    "print(\"No of columns exclusive to attributes vs azdias: \" + str(len(unique_to_attributes_vs_azdias)))\n",
    "print(\"No of columns exclusive to azdias vs attributes: \" + str(len(unique_to_azdias_vs_attributes)))"
   ]
  },
  {
   "cell_type": "markdown",
   "metadata": {},
   "source": [
    "We have 42 unique columns given in the attribute-values data which are not present in azdias or customer data. This might be due to errors in recording these columns. We can go further correcting these mistakes and analysing what is the reason behing these missing columns. But for this analysis we are going to neglect this information and consider only the 272 columns which are common to all three dataframes to replace the 'unkown' values."
   ]
  },
  {
   "cell_type": "code",
   "execution_count": 95,
   "metadata": {},
   "outputs": [],
   "source": [
    "feat_info = attributes_values"
   ]
  },
  {
   "cell_type": "code",
   "execution_count": 98,
   "metadata": {},
   "outputs": [
    {
     "data": {
      "image/png": "[encoded data removed]",
      "text/plain": [
       "<Figure size 720x504 with 1 Axes>"
      ]
     },
     "metadata": {
      "needs_background": "light"
     },
     "output_type": "display_data"
    }
   ],
   "source": [
    "(feat_info.groupby('type').count()['attribute']\n",
    "                        .sort_values(ascending = False).plot(kind = 'bar', figsize = (10, 7)))\n",
    "plt.title('Feature Relations by Variable Type')\n",
    "plt.show()"
   ]
  },
  {
   "cell_type": "code",
   "execution_count": 6,
   "metadata": {},
   "outputs": [
    {
     "data": {
      "image/png": "[encoded data removed]",
      "text/plain": [
       "<matplotlib.figure.Figure at 0x1fafc2d2a90>"
      ]
     },
     "metadata": {},
     "output_type": "display_data"
    }
   ],
   "source": [
    "(feat_info.groupby('information_level').count()['type']\n",
    "                        .sort_values(ascending = False).plot(kind = 'bar', figsize = (10, 7)))\n",
    "plt.title('Feature Relations by Information Level')\n",
    "plt.show()"
   ]
  },
  {
   "cell_type": "markdown",
   "metadata": {},
   "source": [
    "\n",
    "## Step 1: Preprocessing\n",
    "\n",
    "### Step 1.1: Assess Missing Data\n",
    "\n",
    "The feature summary file contains a summary of properties for each demographics data column.This file could help make cleaning decisions during this stage of the project. First of all, I assess the demographics data to deal with missing data. \n",
    "\n",
    "#### Step 1.1.1: Convert Missing Value Codes to NaNs\n",
    "The fourth column of the feature attributes summary (loaded in above as `feat_info`) documents the codes from the data dictionary that indicate missing or unknown data. While the file encodes this as a list (e.g. `[-1,0]`), this will get read in as a string object. To clean the data, I first Convert data that matches a 'missing' or 'unknown' value code into a numpy NaN value. I also evaluated how much data takes on a 'missing' or 'unknown' code, and how much data is naturally missing, as a point of interest.\n"
   ]
  },
  {
   "cell_type": "markdown",
   "metadata": {},
   "source": [
    "There are 5 different types of missing data encodings. These types will be analyzed separately"
   ]
  },
  {
   "cell_type": "code",
   "execution_count": 42,
   "metadata": {},
   "outputs": [],
   "source": [
    "feat_info['missing_or_unknown'].replace({'[-1,X]': '[-1,\"X\"]',\n",
    "                                         '[-1,XX]': '[-1,\"XX\"]',\n",
    "                                          '[XX]': '[\"XX\"]'}, inplace = True)\n",
    "encodings = feat_info.set_index('attribute')['missing_or_unknown'].to_dict()\n",
    "encodings = {key: {k: np.nan for k in literal_eval(value)} for key, value in encodings.items()}\n"
   ]
  },
  {
   "cell_type": "code",
   "execution_count": 43,
   "metadata": {},
   "outputs": [
    {
     "data": {
      "text/plain": [
       "{'AGER_TYP': {-1: nan, 0: nan},\n",
       " 'ALTERSKATEGORIE_GROB': {-1: nan, 0: nan, 9: nan},\n",
       " 'ANREDE_KZ': {-1: nan, 0: nan},\n",
       " 'CJT_GESAMTTYP': {0: nan},\n",
       " 'FINANZ_MINIMALIST': {-1: nan},\n",
       " 'FINANZ_SPARER': {-1: nan},\n",
       " 'FINANZ_VORSORGER': {-1: nan},\n",
       " 'FINANZ_ANLEGER': {-1: nan},\n",
       " 'FINANZ_UNAUFFAELLIGER': {-1: nan},\n",
       " 'FINANZ_HAUSBAUER': {-1: nan},\n",
       " 'FINANZTYP': {-1: nan},\n",
       " 'GEBURTSJAHR': {0: nan},\n",
       " 'GFK_URLAUBERTYP': {},\n",
       " 'GREEN_AVANTGARDE': {},\n",
       " 'HEALTH_TYP': {-1: nan, 0: nan},\n",
       " 'LP_LEBENSPHASE_FEIN': {0: nan},\n",
       " 'LP_LEBENSPHASE_GROB': {0: nan},\n",
       " 'LP_FAMILIE_FEIN': {0: nan},\n",
       " 'LP_FAMILIE_GROB': {0: nan},\n",
       " 'LP_STATUS_FEIN': {0: nan},\n",
       " 'LP_STATUS_GROB': {0: nan},\n",
       " 'NATIONALITAET_KZ': {-1: nan, 0: nan},\n",
       " 'PRAEGENDE_JUGENDJAHRE': {-1: nan, 0: nan},\n",
       " 'RETOURTYP_BK_S': {0: nan},\n",
       " 'SEMIO_SOZ': {-1: nan, 9: nan},\n",
       " 'SEMIO_FAM': {-1: nan, 9: nan},\n",
       " 'SEMIO_REL': {-1: nan, 9: nan},\n",
       " 'SEMIO_MAT': {-1: nan, 9: nan},\n",
       " 'SEMIO_VERT': {-1: nan, 9: nan},\n",
       " 'SEMIO_LUST': {-1: nan, 9: nan},\n",
       " 'SEMIO_ERL': {-1: nan, 9: nan},\n",
       " 'SEMIO_KULT': {-1: nan, 9: nan},\n",
       " 'SEMIO_RAT': {-1: nan, 9: nan},\n",
       " 'SEMIO_KRIT': {-1: nan, 9: nan},\n",
       " 'SEMIO_DOM': {-1: nan, 9: nan},\n",
       " 'SEMIO_KAEM': {-1: nan, 9: nan},\n",
       " 'SEMIO_PFLICHT': {-1: nan, 9: nan},\n",
       " 'SEMIO_TRADV': {-1: nan, 9: nan},\n",
       " 'SHOPPER_TYP': {-1: nan},\n",
       " 'SOHO_KZ': {-1: nan},\n",
       " 'TITEL_KZ': {-1: nan, 0: nan},\n",
       " 'VERS_TYP': {-1: nan},\n",
       " 'ZABEOTYP': {-1: nan, 9: nan},\n",
       " 'ALTER_HH': {0: nan},\n",
       " 'ANZ_PERSONEN': {},\n",
       " 'ANZ_TITEL': {},\n",
       " 'HH_EINKOMMEN_SCORE': {-1: nan, 0: nan},\n",
       " 'KK_KUNDENTYP': {-1: nan},\n",
       " 'W_KEIT_KIND_HH': {-1: nan, 0: nan},\n",
       " 'WOHNDAUER_2008': {-1: nan, 0: nan},\n",
       " 'ANZ_HAUSHALTE_AKTIV': {0: nan},\n",
       " 'ANZ_HH_TITEL': {},\n",
       " 'GEBAEUDETYP': {-1: nan, 0: nan},\n",
       " 'KONSUMNAEHE': {},\n",
       " 'MIN_GEBAEUDEJAHR': {0: nan},\n",
       " 'OST_WEST_KZ': {-1: nan},\n",
       " 'WOHNLAGE': {-1: nan},\n",
       " 'CAMEO_DEUG_2015': {-1: nan, 'X': nan},\n",
       " 'CAMEO_DEU_2015': {'XX': nan},\n",
       " 'CAMEO_INTL_2015': {-1: nan, 'XX': nan},\n",
       " 'KBA05_ANTG1': {-1: nan},\n",
       " 'KBA05_ANTG2': {-1: nan},\n",
       " 'KBA05_ANTG3': {-1: nan},\n",
       " 'KBA05_ANTG4': {-1: nan},\n",
       " 'KBA05_BAUMAX': {-1: nan, 0: nan},\n",
       " 'KBA05_GBZ': {-1: nan, 0: nan},\n",
       " 'BALLRAUM': {-1: nan},\n",
       " 'EWDICHTE': {-1: nan},\n",
       " 'INNENSTADT': {-1: nan},\n",
       " 'GEBAEUDETYP_RASTER': {},\n",
       " 'KKK': {-1: nan, 0: nan},\n",
       " 'MOBI_REGIO': {},\n",
       " 'ONLINE_AFFINITAET': {},\n",
       " 'REGIOTYP': {-1: nan, 0: nan},\n",
       " 'KBA13_ANZAHL_PKW': {},\n",
       " 'PLZ8_ANTG1': {-1: nan},\n",
       " 'PLZ8_ANTG2': {-1: nan},\n",
       " 'PLZ8_ANTG3': {-1: nan},\n",
       " 'PLZ8_ANTG4': {-1: nan},\n",
       " 'PLZ8_BAUMAX': {-1: nan, 0: nan},\n",
       " 'PLZ8_HHZ': {-1: nan},\n",
       " 'PLZ8_GBZ': {-1: nan},\n",
       " 'ARBEIT': {-1: nan, 9: nan},\n",
       " 'ORTSGR_KLS9': {-1: nan, 0: nan},\n",
       " 'RELAT_AB': {-1: nan, 9: nan}}"
      ]
     },
     "execution_count": 43,
     "metadata": {},
     "output_type": "execute_result"
    }
   ],
   "source": [
    "encodings"
   ]
  },
  {
   "cell_type": "code",
   "execution_count": 44,
   "metadata": {},
   "outputs": [],
   "source": [
    "for column,mapping in encodings.items():\n",
    "    azdias[column].replace(mapping, inplace = True)"
   ]
  },
  {
   "cell_type": "code",
   "execution_count": 15,
   "metadata": {},
   "outputs": [
    {
     "data": {
      "text/html": [
       "<div>\n",
       "<style scoped>\n",
       "    .dataframe tbody tr th:only-of-type {\n",
       "        vertical-align: middle;\n",
       "    }\n",
       "\n",
       "    .dataframe tbody tr th {\n",
       "        vertical-align: top;\n",
       "    }\n",
       "\n",
       "    .dataframe thead th {\n",
       "        text-align: right;\n",
       "    }\n",
       "</style>\n",
       "<table border=\"1\" class=\"dataframe\">\n",
       "  <thead>\n",
       "    <tr style=\"text-align: right;\">\n",
       "      <th></th>\n",
       "      <th>LNR</th>\n",
       "      <th>AGER_TYP</th>\n",
       "      <th>AKT_DAT_KL</th>\n",
       "      <th>ALTER_HH</th>\n",
       "      <th>ALTER_KIND1</th>\n",
       "      <th>ALTER_KIND2</th>\n",
       "      <th>ALTER_KIND3</th>\n",
       "      <th>ALTER_KIND4</th>\n",
       "      <th>ALTERSKATEGORIE_FEIN</th>\n",
       "      <th>ANZ_HAUSHALTE_AKTIV</th>\n",
       "      <th>...</th>\n",
       "      <th>VHN</th>\n",
       "      <th>VK_DHT4A</th>\n",
       "      <th>VK_DISTANZ</th>\n",
       "      <th>VK_ZG11</th>\n",
       "      <th>W_KEIT_KIND_HH</th>\n",
       "      <th>WOHNDAUER_2008</th>\n",
       "      <th>WOHNLAGE</th>\n",
       "      <th>ZABEOTYP</th>\n",
       "      <th>ANREDE_KZ</th>\n",
       "      <th>ALTERSKATEGORIE_GROB</th>\n",
       "    </tr>\n",
       "  </thead>\n",
       "  <tbody>\n",
       "    <tr>\n",
       "      <th>0</th>\n",
       "      <td>910215</td>\n",
       "      <td>NaN</td>\n",
       "      <td>NaN</td>\n",
       "      <td>NaN</td>\n",
       "      <td>NaN</td>\n",
       "      <td>NaN</td>\n",
       "      <td>NaN</td>\n",
       "      <td>NaN</td>\n",
       "      <td>NaN</td>\n",
       "      <td>NaN</td>\n",
       "      <td>...</td>\n",
       "      <td>NaN</td>\n",
       "      <td>NaN</td>\n",
       "      <td>NaN</td>\n",
       "      <td>NaN</td>\n",
       "      <td>NaN</td>\n",
       "      <td>NaN</td>\n",
       "      <td>NaN</td>\n",
       "      <td>3</td>\n",
       "      <td>1</td>\n",
       "      <td>2.0</td>\n",
       "    </tr>\n",
       "    <tr>\n",
       "      <th>1</th>\n",
       "      <td>910220</td>\n",
       "      <td>NaN</td>\n",
       "      <td>9.0</td>\n",
       "      <td>NaN</td>\n",
       "      <td>NaN</td>\n",
       "      <td>NaN</td>\n",
       "      <td>NaN</td>\n",
       "      <td>NaN</td>\n",
       "      <td>21.0</td>\n",
       "      <td>11.0</td>\n",
       "      <td>...</td>\n",
       "      <td>4.0</td>\n",
       "      <td>8.0</td>\n",
       "      <td>11.0</td>\n",
       "      <td>10.0</td>\n",
       "      <td>3.0</td>\n",
       "      <td>9.0</td>\n",
       "      <td>4.0</td>\n",
       "      <td>5</td>\n",
       "      <td>2</td>\n",
       "      <td>1.0</td>\n",
       "    </tr>\n",
       "    <tr>\n",
       "      <th>2</th>\n",
       "      <td>910225</td>\n",
       "      <td>NaN</td>\n",
       "      <td>9.0</td>\n",
       "      <td>17.0</td>\n",
       "      <td>NaN</td>\n",
       "      <td>NaN</td>\n",
       "      <td>NaN</td>\n",
       "      <td>NaN</td>\n",
       "      <td>17.0</td>\n",
       "      <td>10.0</td>\n",
       "      <td>...</td>\n",
       "      <td>2.0</td>\n",
       "      <td>9.0</td>\n",
       "      <td>9.0</td>\n",
       "      <td>6.0</td>\n",
       "      <td>3.0</td>\n",
       "      <td>9.0</td>\n",
       "      <td>2.0</td>\n",
       "      <td>5</td>\n",
       "      <td>2</td>\n",
       "      <td>3.0</td>\n",
       "    </tr>\n",
       "    <tr>\n",
       "      <th>3</th>\n",
       "      <td>910226</td>\n",
       "      <td>2.0</td>\n",
       "      <td>1.0</td>\n",
       "      <td>13.0</td>\n",
       "      <td>NaN</td>\n",
       "      <td>NaN</td>\n",
       "      <td>NaN</td>\n",
       "      <td>NaN</td>\n",
       "      <td>13.0</td>\n",
       "      <td>1.0</td>\n",
       "      <td>...</td>\n",
       "      <td>0.0</td>\n",
       "      <td>7.0</td>\n",
       "      <td>10.0</td>\n",
       "      <td>11.0</td>\n",
       "      <td>NaN</td>\n",
       "      <td>9.0</td>\n",
       "      <td>7.0</td>\n",
       "      <td>3</td>\n",
       "      <td>2</td>\n",
       "      <td>4.0</td>\n",
       "    </tr>\n",
       "    <tr>\n",
       "      <th>4</th>\n",
       "      <td>910241</td>\n",
       "      <td>NaN</td>\n",
       "      <td>1.0</td>\n",
       "      <td>20.0</td>\n",
       "      <td>NaN</td>\n",
       "      <td>NaN</td>\n",
       "      <td>NaN</td>\n",
       "      <td>NaN</td>\n",
       "      <td>14.0</td>\n",
       "      <td>3.0</td>\n",
       "      <td>...</td>\n",
       "      <td>2.0</td>\n",
       "      <td>3.0</td>\n",
       "      <td>5.0</td>\n",
       "      <td>4.0</td>\n",
       "      <td>2.0</td>\n",
       "      <td>9.0</td>\n",
       "      <td>3.0</td>\n",
       "      <td>4</td>\n",
       "      <td>1</td>\n",
       "      <td>3.0</td>\n",
       "    </tr>\n",
       "  </tbody>\n",
       "</table>\n",
       "<p>5 rows × 366 columns</p>\n",
       "</div>"
      ],
      "text/plain": [
       "      LNR  AGER_TYP  AKT_DAT_KL  ALTER_HH  ALTER_KIND1  ALTER_KIND2  \\\n",
       "0  910215       NaN         NaN       NaN          NaN          NaN   \n",
       "1  910220       NaN         9.0       NaN          NaN          NaN   \n",
       "2  910225       NaN         9.0      17.0          NaN          NaN   \n",
       "3  910226       2.0         1.0      13.0          NaN          NaN   \n",
       "4  910241       NaN         1.0      20.0          NaN          NaN   \n",
       "\n",
       "   ALTER_KIND3  ALTER_KIND4  ALTERSKATEGORIE_FEIN  ANZ_HAUSHALTE_AKTIV  ...  \\\n",
       "0          NaN          NaN                   NaN                  NaN  ...   \n",
       "1          NaN          NaN                  21.0                 11.0  ...   \n",
       "2          NaN          NaN                  17.0                 10.0  ...   \n",
       "3          NaN          NaN                  13.0                  1.0  ...   \n",
       "4          NaN          NaN                  14.0                  3.0  ...   \n",
       "\n",
       "   VHN  VK_DHT4A  VK_DISTANZ  VK_ZG11  W_KEIT_KIND_HH  WOHNDAUER_2008  \\\n",
       "0  NaN       NaN         NaN      NaN             NaN             NaN   \n",
       "1  4.0       8.0        11.0     10.0             3.0             9.0   \n",
       "2  2.0       9.0         9.0      6.0             3.0             9.0   \n",
       "3  0.0       7.0        10.0     11.0             NaN             9.0   \n",
       "4  2.0       3.0         5.0      4.0             2.0             9.0   \n",
       "\n",
       "   WOHNLAGE ZABEOTYP ANREDE_KZ ALTERSKATEGORIE_GROB  \n",
       "0       NaN        3         1                  2.0  \n",
       "1       4.0        5         2                  1.0  \n",
       "2       2.0        5         2                  3.0  \n",
       "3       7.0        3         2                  4.0  \n",
       "4       3.0        4         1                  3.0  \n",
       "\n",
       "[5 rows x 366 columns]"
      ]
     },
     "execution_count": 15,
     "metadata": {},
     "output_type": "execute_result"
    }
   ],
   "source": [
    "azdias.head()"
   ]
  },
  {
   "cell_type": "markdown",
   "metadata": {},
   "source": [
    "#### Step 1.1.2: Assess Missing Data in Each Column\n",
    "\n",
    "How much missing data is present in each column? There are a few columns that are outliers in terms of the proportion of values that are missing. Here I used matplotlib's function to visualize the distribution of missing value counts to find these columns. Identify and document these columns. While some of these columns might have justifications for keeping or re-encoding the data, for this project I just remove them from the dataframe."
   ]
  },
  {
   "cell_type": "code",
   "execution_count": 16,
   "metadata": {},
   "outputs": [],
   "source": [
    "# Perform an assessment of how much missing data there is in each column of the dataset.\n",
    "\n",
    "def extract_columns_with_nan(df):\n",
    "\n",
    "    # Extract columns with NaNs\n",
    "    columns_with_nans = df.isnull().sum()[df.isnull().sum() > 0]\n",
    "\n",
    "    # Calculate percentage of NaN for each column\n",
    "    dic_nan = {'sum': columns_with_nans.values, 'percent': np.round(columns_with_nans.values * 100 / df.shape[0], 2)}\n",
    "\n",
    "    # Build a dataframe including only columns with NaNs\n",
    "    df_nan = pd.DataFrame(data=dic_nan, index=columns_with_nans.index)\n",
    "\n",
    "    # Sort by percentage\n",
    "    df_nan.sort_values(by='percent', ascending=False, inplace=True)\n",
    "\n",
    "    return df_nan"
   ]
  },
  {
   "cell_type": "code",
   "execution_count": 17,
   "metadata": {},
   "outputs": [],
   "source": [
    "azdias_nan = extract_columns_with_nan(azdias)\n"
   ]
  },
  {
   "cell_type": "code",
   "execution_count": 21,
   "metadata": {},
   "outputs": [
    {
     "data": {
      "image/png": "[encoded data removed]",
      "text/plain": [
       "<Figure size 720x504 with 1 Axes>"
      ]
     },
     "metadata": {
      "needs_background": "light"
     },
     "output_type": "display_data"
    }
   ],
   "source": [
    "#Investigate patterns in the amount of missing data in each column.\n",
    "\n",
    "azdias_nan['percent'].plot(kind = 'hist', figsize = (10, 7), bins = 60,\n",
    "                                            title = 'Number of Missing Values Distribution')\n",
    "\n",
    "plt.xlabel('% of missing data')   ;"
   ]
  },
  {
   "cell_type": "markdown",
   "metadata": {},
   "source": [
    "It seemed that the missing ratio of most attributes are below 30%. Therefore, I will delete the outliers based on the criterion."
   ]
  },
  {
   "cell_type": "code",
   "execution_count": 45,
   "metadata": {},
   "outputs": [],
   "source": [
    "# Delete the outlier attributes that have more than 30% missing data ratio\n",
    "attributes_outlier_list = azdias_nan[azdias_nan['percent'] >= 0.3].index.to_list()\n",
    "azdias_cleaned = azdias.drop(attributes_outlier_list, axis=1)"
   ]
  },
  {
   "cell_type": "code",
   "execution_count": 46,
   "metadata": {},
   "outputs": [
    {
     "data": {
      "text/html": [
       "<div>\n",
       "<style scoped>\n",
       "    .dataframe tbody tr th:only-of-type {\n",
       "        vertical-align: middle;\n",
       "    }\n",
       "\n",
       "    .dataframe tbody tr th {\n",
       "        vertical-align: top;\n",
       "    }\n",
       "\n",
       "    .dataframe thead th {\n",
       "        text-align: right;\n",
       "    }\n",
       "</style>\n",
       "<table border=\"1\" class=\"dataframe\">\n",
       "  <thead>\n",
       "    <tr style=\"text-align: right;\">\n",
       "      <th></th>\n",
       "      <th>LNR</th>\n",
       "      <th>D19_BANKEN_ANZ_12</th>\n",
       "      <th>D19_BANKEN_ANZ_24</th>\n",
       "      <th>D19_BANKEN_DATUM</th>\n",
       "      <th>D19_BANKEN_DIREKT</th>\n",
       "      <th>D19_BANKEN_GROSS</th>\n",
       "      <th>D19_BANKEN_LOKAL</th>\n",
       "      <th>D19_BANKEN_OFFLINE_DATUM</th>\n",
       "      <th>D19_BANKEN_ONLINE_DATUM</th>\n",
       "      <th>D19_BANKEN_REST</th>\n",
       "      <th>...</th>\n",
       "      <th>SEMIO_LUST</th>\n",
       "      <th>SEMIO_MAT</th>\n",
       "      <th>SEMIO_PFLICHT</th>\n",
       "      <th>SEMIO_RAT</th>\n",
       "      <th>SEMIO_REL</th>\n",
       "      <th>SEMIO_SOZ</th>\n",
       "      <th>SEMIO_TRADV</th>\n",
       "      <th>SEMIO_VERT</th>\n",
       "      <th>ZABEOTYP</th>\n",
       "      <th>ANREDE_KZ</th>\n",
       "    </tr>\n",
       "  </thead>\n",
       "  <tbody>\n",
       "    <tr>\n",
       "      <th>0</th>\n",
       "      <td>910215</td>\n",
       "      <td>0</td>\n",
       "      <td>0</td>\n",
       "      <td>10</td>\n",
       "      <td>0</td>\n",
       "      <td>0</td>\n",
       "      <td>0</td>\n",
       "      <td>10</td>\n",
       "      <td>10</td>\n",
       "      <td>0</td>\n",
       "      <td>...</td>\n",
       "      <td>5</td>\n",
       "      <td>5</td>\n",
       "      <td>5</td>\n",
       "      <td>4</td>\n",
       "      <td>7</td>\n",
       "      <td>2</td>\n",
       "      <td>3</td>\n",
       "      <td>1</td>\n",
       "      <td>3</td>\n",
       "      <td>1</td>\n",
       "    </tr>\n",
       "    <tr>\n",
       "      <th>1</th>\n",
       "      <td>910220</td>\n",
       "      <td>0</td>\n",
       "      <td>0</td>\n",
       "      <td>10</td>\n",
       "      <td>0</td>\n",
       "      <td>0</td>\n",
       "      <td>0</td>\n",
       "      <td>10</td>\n",
       "      <td>10</td>\n",
       "      <td>0</td>\n",
       "      <td>...</td>\n",
       "      <td>2</td>\n",
       "      <td>3</td>\n",
       "      <td>7</td>\n",
       "      <td>6</td>\n",
       "      <td>4</td>\n",
       "      <td>5</td>\n",
       "      <td>6</td>\n",
       "      <td>1</td>\n",
       "      <td>5</td>\n",
       "      <td>2</td>\n",
       "    </tr>\n",
       "    <tr>\n",
       "      <th>2</th>\n",
       "      <td>910225</td>\n",
       "      <td>0</td>\n",
       "      <td>0</td>\n",
       "      <td>10</td>\n",
       "      <td>0</td>\n",
       "      <td>0</td>\n",
       "      <td>0</td>\n",
       "      <td>10</td>\n",
       "      <td>10</td>\n",
       "      <td>0</td>\n",
       "      <td>...</td>\n",
       "      <td>4</td>\n",
       "      <td>3</td>\n",
       "      <td>3</td>\n",
       "      <td>4</td>\n",
       "      <td>3</td>\n",
       "      <td>4</td>\n",
       "      <td>3</td>\n",
       "      <td>4</td>\n",
       "      <td>5</td>\n",
       "      <td>2</td>\n",
       "    </tr>\n",
       "    <tr>\n",
       "      <th>3</th>\n",
       "      <td>910226</td>\n",
       "      <td>0</td>\n",
       "      <td>0</td>\n",
       "      <td>10</td>\n",
       "      <td>0</td>\n",
       "      <td>0</td>\n",
       "      <td>0</td>\n",
       "      <td>10</td>\n",
       "      <td>10</td>\n",
       "      <td>0</td>\n",
       "      <td>...</td>\n",
       "      <td>4</td>\n",
       "      <td>1</td>\n",
       "      <td>4</td>\n",
       "      <td>3</td>\n",
       "      <td>2</td>\n",
       "      <td>5</td>\n",
       "      <td>4</td>\n",
       "      <td>4</td>\n",
       "      <td>3</td>\n",
       "      <td>2</td>\n",
       "    </tr>\n",
       "    <tr>\n",
       "      <th>4</th>\n",
       "      <td>910241</td>\n",
       "      <td>3</td>\n",
       "      <td>5</td>\n",
       "      <td>5</td>\n",
       "      <td>1</td>\n",
       "      <td>2</td>\n",
       "      <td>0</td>\n",
       "      <td>10</td>\n",
       "      <td>5</td>\n",
       "      <td>6</td>\n",
       "      <td>...</td>\n",
       "      <td>4</td>\n",
       "      <td>2</td>\n",
       "      <td>4</td>\n",
       "      <td>2</td>\n",
       "      <td>4</td>\n",
       "      <td>6</td>\n",
       "      <td>2</td>\n",
       "      <td>7</td>\n",
       "      <td>4</td>\n",
       "      <td>1</td>\n",
       "    </tr>\n",
       "    <tr>\n",
       "      <th>...</th>\n",
       "      <td>...</td>\n",
       "      <td>...</td>\n",
       "      <td>...</td>\n",
       "      <td>...</td>\n",
       "      <td>...</td>\n",
       "      <td>...</td>\n",
       "      <td>...</td>\n",
       "      <td>...</td>\n",
       "      <td>...</td>\n",
       "      <td>...</td>\n",
       "      <td>...</td>\n",
       "      <td>...</td>\n",
       "      <td>...</td>\n",
       "      <td>...</td>\n",
       "      <td>...</td>\n",
       "      <td>...</td>\n",
       "      <td>...</td>\n",
       "      <td>...</td>\n",
       "      <td>...</td>\n",
       "      <td>...</td>\n",
       "      <td>...</td>\n",
       "    </tr>\n",
       "    <tr>\n",
       "      <th>891216</th>\n",
       "      <td>825761</td>\n",
       "      <td>0</td>\n",
       "      <td>0</td>\n",
       "      <td>10</td>\n",
       "      <td>0</td>\n",
       "      <td>0</td>\n",
       "      <td>0</td>\n",
       "      <td>10</td>\n",
       "      <td>10</td>\n",
       "      <td>0</td>\n",
       "      <td>...</td>\n",
       "      <td>1</td>\n",
       "      <td>3</td>\n",
       "      <td>4</td>\n",
       "      <td>4</td>\n",
       "      <td>3</td>\n",
       "      <td>2</td>\n",
       "      <td>2</td>\n",
       "      <td>2</td>\n",
       "      <td>4</td>\n",
       "      <td>2</td>\n",
       "    </tr>\n",
       "    <tr>\n",
       "      <th>891217</th>\n",
       "      <td>825771</td>\n",
       "      <td>0</td>\n",
       "      <td>0</td>\n",
       "      <td>10</td>\n",
       "      <td>0</td>\n",
       "      <td>0</td>\n",
       "      <td>0</td>\n",
       "      <td>10</td>\n",
       "      <td>10</td>\n",
       "      <td>0</td>\n",
       "      <td>...</td>\n",
       "      <td>7</td>\n",
       "      <td>5</td>\n",
       "      <td>6</td>\n",
       "      <td>4</td>\n",
       "      <td>7</td>\n",
       "      <td>4</td>\n",
       "      <td>2</td>\n",
       "      <td>4</td>\n",
       "      <td>6</td>\n",
       "      <td>1</td>\n",
       "    </tr>\n",
       "    <tr>\n",
       "      <th>891218</th>\n",
       "      <td>825772</td>\n",
       "      <td>0</td>\n",
       "      <td>0</td>\n",
       "      <td>9</td>\n",
       "      <td>6</td>\n",
       "      <td>0</td>\n",
       "      <td>0</td>\n",
       "      <td>10</td>\n",
       "      <td>9</td>\n",
       "      <td>0</td>\n",
       "      <td>...</td>\n",
       "      <td>3</td>\n",
       "      <td>3</td>\n",
       "      <td>6</td>\n",
       "      <td>7</td>\n",
       "      <td>5</td>\n",
       "      <td>5</td>\n",
       "      <td>7</td>\n",
       "      <td>2</td>\n",
       "      <td>4</td>\n",
       "      <td>2</td>\n",
       "    </tr>\n",
       "    <tr>\n",
       "      <th>891219</th>\n",
       "      <td>825776</td>\n",
       "      <td>0</td>\n",
       "      <td>0</td>\n",
       "      <td>10</td>\n",
       "      <td>0</td>\n",
       "      <td>0</td>\n",
       "      <td>0</td>\n",
       "      <td>10</td>\n",
       "      <td>10</td>\n",
       "      <td>0</td>\n",
       "      <td>...</td>\n",
       "      <td>3</td>\n",
       "      <td>5</td>\n",
       "      <td>7</td>\n",
       "      <td>5</td>\n",
       "      <td>7</td>\n",
       "      <td>7</td>\n",
       "      <td>5</td>\n",
       "      <td>6</td>\n",
       "      <td>5</td>\n",
       "      <td>1</td>\n",
       "    </tr>\n",
       "    <tr>\n",
       "      <th>891220</th>\n",
       "      <td>825787</td>\n",
       "      <td>0</td>\n",
       "      <td>0</td>\n",
       "      <td>10</td>\n",
       "      <td>0</td>\n",
       "      <td>0</td>\n",
       "      <td>0</td>\n",
       "      <td>10</td>\n",
       "      <td>10</td>\n",
       "      <td>0</td>\n",
       "      <td>...</td>\n",
       "      <td>5</td>\n",
       "      <td>4</td>\n",
       "      <td>2</td>\n",
       "      <td>3</td>\n",
       "      <td>3</td>\n",
       "      <td>6</td>\n",
       "      <td>2</td>\n",
       "      <td>6</td>\n",
       "      <td>3</td>\n",
       "      <td>1</td>\n",
       "    </tr>\n",
       "  </tbody>\n",
       "</table>\n",
       "<p>891221 rows × 85 columns</p>\n",
       "</div>"
      ],
      "text/plain": [
       "           LNR  D19_BANKEN_ANZ_12  D19_BANKEN_ANZ_24  D19_BANKEN_DATUM  \\\n",
       "0       910215                  0                  0                10   \n",
       "1       910220                  0                  0                10   \n",
       "2       910225                  0                  0                10   \n",
       "3       910226                  0                  0                10   \n",
       "4       910241                  3                  5                 5   \n",
       "...        ...                ...                ...               ...   \n",
       "891216  825761                  0                  0                10   \n",
       "891217  825771                  0                  0                10   \n",
       "891218  825772                  0                  0                 9   \n",
       "891219  825776                  0                  0                10   \n",
       "891220  825787                  0                  0                10   \n",
       "\n",
       "        D19_BANKEN_DIREKT  D19_BANKEN_GROSS  D19_BANKEN_LOKAL  \\\n",
       "0                       0                 0                 0   \n",
       "1                       0                 0                 0   \n",
       "2                       0                 0                 0   \n",
       "3                       0                 0                 0   \n",
       "4                       1                 2                 0   \n",
       "...                   ...               ...               ...   \n",
       "891216                  0                 0                 0   \n",
       "891217                  0                 0                 0   \n",
       "891218                  6                 0                 0   \n",
       "891219                  0                 0                 0   \n",
       "891220                  0                 0                 0   \n",
       "\n",
       "        D19_BANKEN_OFFLINE_DATUM  D19_BANKEN_ONLINE_DATUM  D19_BANKEN_REST  \\\n",
       "0                             10                       10                0   \n",
       "1                             10                       10                0   \n",
       "2                             10                       10                0   \n",
       "3                             10                       10                0   \n",
       "4                             10                        5                6   \n",
       "...                          ...                      ...              ...   \n",
       "891216                        10                       10                0   \n",
       "891217                        10                       10                0   \n",
       "891218                        10                        9                0   \n",
       "891219                        10                       10                0   \n",
       "891220                        10                       10                0   \n",
       "\n",
       "        ...  SEMIO_LUST  SEMIO_MAT  SEMIO_PFLICHT  SEMIO_RAT  SEMIO_REL  \\\n",
       "0       ...           5          5              5          4          7   \n",
       "1       ...           2          3              7          6          4   \n",
       "2       ...           4          3              3          4          3   \n",
       "3       ...           4          1              4          3          2   \n",
       "4       ...           4          2              4          2          4   \n",
       "...     ...         ...        ...            ...        ...        ...   \n",
       "891216  ...           1          3              4          4          3   \n",
       "891217  ...           7          5              6          4          7   \n",
       "891218  ...           3          3              6          7          5   \n",
       "891219  ...           3          5              7          5          7   \n",
       "891220  ...           5          4              2          3          3   \n",
       "\n",
       "        SEMIO_SOZ  SEMIO_TRADV  SEMIO_VERT  ZABEOTYP  ANREDE_KZ  \n",
       "0               2            3           1         3          1  \n",
       "1               5            6           1         5          2  \n",
       "2               4            3           4         5          2  \n",
       "3               5            4           4         3          2  \n",
       "4               6            2           7         4          1  \n",
       "...           ...          ...         ...       ...        ...  \n",
       "891216          2            2           2         4          2  \n",
       "891217          4            2           4         6          1  \n",
       "891218          5            7           2         4          2  \n",
       "891219          7            5           6         5          1  \n",
       "891220          6            2           6         3          1  \n",
       "\n",
       "[891221 rows x 85 columns]"
      ]
     },
     "execution_count": 46,
     "metadata": {},
     "output_type": "execute_result"
    }
   ],
   "source": [
    "azdias_cleaned"
   ]
  },
  {
   "cell_type": "code",
   "execution_count": 47,
   "metadata": {},
   "outputs": [
    {
     "data": {
      "text/html": [
       "<div>\n",
       "<style scoped>\n",
       "    .dataframe tbody tr th:only-of-type {\n",
       "        vertical-align: middle;\n",
       "    }\n",
       "\n",
       "    .dataframe tbody tr th {\n",
       "        vertical-align: top;\n",
       "    }\n",
       "\n",
       "    .dataframe thead th {\n",
       "        text-align: right;\n",
       "    }\n",
       "</style>\n",
       "<table border=\"1\" class=\"dataframe\">\n",
       "  <thead>\n",
       "    <tr style=\"text-align: right;\">\n",
       "      <th></th>\n",
       "      <th>attribute</th>\n",
       "      <th>information_level</th>\n",
       "      <th>type</th>\n",
       "      <th>missing_or_unknown</th>\n",
       "    </tr>\n",
       "  </thead>\n",
       "  <tbody>\n",
       "    <tr>\n",
       "      <th>0</th>\n",
       "      <td>AGER_TYP</td>\n",
       "      <td>person</td>\n",
       "      <td>categorical</td>\n",
       "      <td>[-1,0]</td>\n",
       "    </tr>\n",
       "    <tr>\n",
       "      <th>1</th>\n",
       "      <td>ALTERSKATEGORIE_GROB</td>\n",
       "      <td>person</td>\n",
       "      <td>ordinal</td>\n",
       "      <td>[-1,0,9]</td>\n",
       "    </tr>\n",
       "    <tr>\n",
       "      <th>3</th>\n",
       "      <td>CJT_GESAMTTYP</td>\n",
       "      <td>person</td>\n",
       "      <td>categorical</td>\n",
       "      <td>[0]</td>\n",
       "    </tr>\n",
       "    <tr>\n",
       "      <th>11</th>\n",
       "      <td>GEBURTSJAHR</td>\n",
       "      <td>person</td>\n",
       "      <td>numeric</td>\n",
       "      <td>[0]</td>\n",
       "    </tr>\n",
       "    <tr>\n",
       "      <th>12</th>\n",
       "      <td>GFK_URLAUBERTYP</td>\n",
       "      <td>person</td>\n",
       "      <td>categorical</td>\n",
       "      <td>[]</td>\n",
       "    </tr>\n",
       "    <tr>\n",
       "      <th>...</th>\n",
       "      <td>...</td>\n",
       "      <td>...</td>\n",
       "      <td>...</td>\n",
       "      <td>...</td>\n",
       "    </tr>\n",
       "    <tr>\n",
       "      <th>80</th>\n",
       "      <td>PLZ8_HHZ</td>\n",
       "      <td>macrocell_plz8</td>\n",
       "      <td>ordinal</td>\n",
       "      <td>[-1]</td>\n",
       "    </tr>\n",
       "    <tr>\n",
       "      <th>81</th>\n",
       "      <td>PLZ8_GBZ</td>\n",
       "      <td>macrocell_plz8</td>\n",
       "      <td>ordinal</td>\n",
       "      <td>[-1]</td>\n",
       "    </tr>\n",
       "    <tr>\n",
       "      <th>82</th>\n",
       "      <td>ARBEIT</td>\n",
       "      <td>community</td>\n",
       "      <td>ordinal</td>\n",
       "      <td>[-1,9]</td>\n",
       "    </tr>\n",
       "    <tr>\n",
       "      <th>83</th>\n",
       "      <td>ORTSGR_KLS9</td>\n",
       "      <td>community</td>\n",
       "      <td>ordinal</td>\n",
       "      <td>[-1,0]</td>\n",
       "    </tr>\n",
       "    <tr>\n",
       "      <th>84</th>\n",
       "      <td>RELAT_AB</td>\n",
       "      <td>community</td>\n",
       "      <td>ordinal</td>\n",
       "      <td>[-1,9]</td>\n",
       "    </tr>\n",
       "  </tbody>\n",
       "</table>\n",
       "<p>61 rows × 4 columns</p>\n",
       "</div>"
      ],
      "text/plain": [
       "               attribute information_level         type missing_or_unknown\n",
       "0               AGER_TYP            person  categorical             [-1,0]\n",
       "1   ALTERSKATEGORIE_GROB            person      ordinal           [-1,0,9]\n",
       "3          CJT_GESAMTTYP            person  categorical                [0]\n",
       "11           GEBURTSJAHR            person      numeric                [0]\n",
       "12       GFK_URLAUBERTYP            person  categorical                 []\n",
       "..                   ...               ...          ...                ...\n",
       "80              PLZ8_HHZ    macrocell_plz8      ordinal               [-1]\n",
       "81              PLZ8_GBZ    macrocell_plz8      ordinal               [-1]\n",
       "82                ARBEIT         community      ordinal             [-1,9]\n",
       "83           ORTSGR_KLS9         community      ordinal             [-1,0]\n",
       "84              RELAT_AB         community      ordinal             [-1,9]\n",
       "\n",
       "[61 rows x 4 columns]"
      ]
     },
     "execution_count": 47,
     "metadata": {},
     "output_type": "execute_result"
    }
   ],
   "source": [
    "feat_info[feat_info['attribute'].isin(attributes_outlier_list)]"
   ]
  },
  {
   "cell_type": "markdown",
   "metadata": {},
   "source": [
    "The rest of the outlier columns will be treated as categorical features and transformed using one-hot encoding"
   ]
  },
  {
   "cell_type": "markdown",
   "metadata": {},
   "source": [
    "#### Step 1.1.3: Assess Missing Data in Each Row\n",
    "\n",
    "A similar assessment for the rows of the dataset. How much data is missing in each row? Divide the data into two subsets: one for data points that are above some threshold for missing values, and a second subset for points below that threshold.\n",
    "\n",
    "In order to know what to do with the outlier rows, we should see if the distribution of data values on columns that are not missing data (or are missing very little data) are similar or different between the two groups. Select at least five of these columns and compare the distribution of values.\n",
    "\n",
    "If the distributions of non-missing features look similar between the data with many missing values and the data with few or no missing values, then we could argue that simply dropping those points from the analysis won't present a major issue. On the other hand, if the data with many missing values looks very different from the data with few or no missing values, then we should make a note on those data as special."
   ]
  },
  {
   "cell_type": "code",
   "execution_count": 22,
   "metadata": {},
   "outputs": [
    {
     "data": {
      "text/plain": [
       "Text(0.5, 0, 'Number of Missing Values')"
      ]
     },
     "execution_count": 22,
     "metadata": {},
     "output_type": "execute_result"
    },
    {
     "data": {
      "image/png": "[encoded data removed]",
      "text/plain": [
       "<Figure size 720x504 with 1 Axes>"
      ]
     },
     "metadata": {
      "needs_background": "light"
     },
     "output_type": "display_data"
    }
   ],
   "source": [
    "azdias_nullcnt_row = pd.DataFrame(azdias.isnull().sum(axis = 1))\n",
    "azdias_nullcnt_row.columns = ['num_nulls']\n",
    "azdias_nullcnt_row.plot(kind = 'hist', bins = 100, figsize = (10, 7), title ='Missing Data by Rows')\n",
    "plt.xlabel('Number of Missing Values')"
   ]
  },
  {
   "cell_type": "markdown",
   "metadata": {},
   "source": [
    "There are several rows that has more than 30 missing values across the column. Now build function that separates the data into two parts, and visualize the distributions separately"
   ]
  },
  {
   "cell_type": "code",
   "execution_count": 26,
   "metadata": {},
   "outputs": [],
   "source": [
    "def visualizeDistAzdias(azdias_nullcnt_row, column, threshold = 30):\n",
    "    # separate dataset based on number of null values in rows \n",
    "    lessNull_rows = list(azdias_nullcnt_row[azdias_nullcnt_row['num_nulls']  < threshold].index)\n",
    "    moreNull_rows = list(azdias_nullcnt_row[azdias_nullcnt_row['num_nulls']  > threshold].index)\n",
    "    # Flag the high missing value rows\n",
    "    azdias_moreNull = azdias.loc[moreNull_rows, :] \n",
    "    azdias_lessNull = azdias.loc[lessNull_rows, :] \n",
    "    # create subplots\n",
    "    fig, (ax1, ax2) = plt.subplots(1, 2, sharey = True, figsize = (20, 7))\n",
    "    ax1.set_title('Less Missing Values')\n",
    "    ax2.set_title('More Missing Values')\n",
    "    sns.barplot(x = column, y = column, ax = ax1,\n",
    "            data = azdias_lessNull, estimator= lambda x: len(x)/len(azdias_lessNull)* 100)\n",
    "    sns.barplot(x = column, y = column, ax = ax2, \n",
    "            data = azdias_moreNull, estimator= lambda x: len(x)/len(azdias_moreNull)* 100)\n",
    "    plt.ylabel('% values among total')\n",
    "    plt.suptitle(column)"
   ]
  },
  {
   "cell_type": "markdown",
   "metadata": {},
   "source": [
    "Now visualize 5 different columns"
   ]
  },
  {
   "cell_type": "code",
   "execution_count": 29,
   "metadata": {
    "scrolled": false
   },
   "outputs": [
    {
     "data": {
      "image/png": "[encoded data removed]",
      "text/plain": [
       "<Figure size 1440x504 with 2 Axes>"
      ]
     },
     "metadata": {
      "needs_background": "light"
     },
     "output_type": "display_data"
    },
    {
     "data": {
      "image/png": "[encoded data removed]",
      "text/plain": [
       "<Figure size 1440x504 with 2 Axes>"
      ]
     },
     "metadata": {
      "needs_background": "light"
     },
     "output_type": "display_data"
    },
    {
     "data": {
      "image/png": "[encoded data removed]",
      "text/plain": [
       "<Figure size 1440x504 with 2 Axes>"
      ]
     },
     "metadata": {
      "needs_background": "light"
     },
     "output_type": "display_data"
    },
    {
     "data": {
      "image/png": "[encoded data removed]",
      "text/plain": [
       "<Figure size 1440x504 with 2 Axes>"
      ]
     },
     "metadata": {
      "needs_background": "light"
     },
     "output_type": "display_data"
    },
    {
     "data": {
      "image/png": "[encoded data removed]",
      "text/plain": [
       "<Figure size 1440x504 with 2 Axes>"
      ]
     },
     "metadata": {
      "needs_background": "light"
     },
     "output_type": "display_data"
    }
   ],
   "source": [
    "for i in ['ALTERSKATEGORIE_GROB', 'D19_SONSTIGE','D19_TECHNIK', 'D19_TELKO_ANZ_12', 'D19_TELKO_ANZ_24']:\n",
    "    visualizeDistAzdias(azdias_nullcnt_row, i, 10)"
   ]
  },
  {
   "cell_type": "markdown",
   "metadata": {},
   "source": [
    "#### Discussion 1.1.3: Assess Missing Data in Each Row\n",
    "\n"
   ]
  },
  {
   "cell_type": "markdown",
   "metadata": {},
   "source": [
    "Based on the graph above, the distribution of the deleted rows are not different from the rows left, so I will drop all the rows that have more than 30 missing value. From the histogram of missing value distributions, the rows with more than 30 missing values will be dropped, while the rest of the missing values will be imputed."
   ]
  },
  {
   "cell_type": "code",
   "execution_count": 48,
   "metadata": {},
   "outputs": [],
   "source": [
    "azdias_nan_counts = len(azdias_cleaned.columns) - azdias_cleaned.count(axis=1)\n",
    "azdias_cleaned =  azdias_cleaned[azdias_nan_counts <= 30]"
   ]
  },
  {
   "cell_type": "markdown",
   "metadata": {},
   "source": [
    "#### Remove highly correlated numerical features\n"
   ]
  },
  {
   "cell_type": "code",
   "execution_count": 19,
   "metadata": {},
   "outputs": [],
   "source": [
    "# Identify correlations between numeric features\n",
    "def correlated_columns_to_drop(df, min_corr_level=0.95):\n",
    "\n",
    "    # Create correlation matrix\n",
    "    corr_matrix = df.corr().abs()\n",
    "\n",
    "    # Select upper triangle of correlation matrix\n",
    "    upper = corr_matrix.where(np.triu(np.ones(corr_matrix.shape), k=1).astype(np.bool))\n",
    "\n",
    "    # Find index of feature columns with correlation greater than min_corr_level\n",
    "    to_drop = [column for column in upper.columns if any(upper[column] > min_corr_level)]\n",
    "\n",
    "    return to_drop"
   ]
  },
  {
   "cell_type": "code",
   "execution_count": 49,
   "metadata": {},
   "outputs": [],
   "source": [
    "df_num = azdias_cleaned.select_dtypes(include = ['float64', 'int64'])\n",
    "\n",
    "columns_to_drop = correlated_columns_to_drop(df_num, 0.95)"
   ]
  },
  {
   "cell_type": "markdown",
   "metadata": {},
   "source": [
    "### Step 1.2: Select and Re-Encode Features\n",
    "\n",
    "Since the unsupervised learning techniques to be used will only work on data that is encoded numerically, I made few encoding changes or additional assumptions to be able to make progress. In addition, while almost all of the values in the dataset are encoded using numbers, not all of them represent numeric values. \n",
    "\n",
    "- For numeric and interval data, these features can be kept without changes.\n",
    "- Most of the variables in the dataset are ordinal in nature. While ordinal values may technically be non-linear in spacing, make the simplifying assumption that the ordinal variables can be treated as being interval in nature (that is, kept without any changes).\n",
    "- Special handling may be necessary for the remaining two variable types: categorical, and 'mixed'.\n",
    "\n",
    "I perform an investigation of the categorical and mixed-type features. Then create a new data frame with only the selected and engineered columns."
   ]
  },
  {
   "cell_type": "code",
   "execution_count": 31,
   "metadata": {},
   "outputs": [
    {
     "data": {
      "image/png": "[encoded data removed]",
      "text/plain": [
       "<Figure size 720x504 with 1 Axes>"
      ]
     },
     "metadata": {
      "needs_background": "light"
     },
     "output_type": "display_data"
    }
   ],
   "source": [
    "# How many features are there of each data type?\n",
    "(feat_info.groupby('type').count()['attribute']\n",
    "                        .sort_values(ascending = False).plot(kind = 'bar', figsize = (10, 7)))\n",
    "plt.title('# Features by Variable Types')\n",
    "plt.show()"
   ]
  },
  {
   "cell_type": "markdown",
   "metadata": {},
   "source": [
    "#### Step 1.2.1: Re-Encode Categorical Features\n",
    "\n",
    "For categorical data, I encode the levels as dummy variables. Depending on the number of categories, perform one of the following:\n",
    "- For binary (two-level) categoricals that take numeric values, keep them without needing to do anything.\n",
    "- There is one binary variable that takes on non-numeric values. For this one, re-encode the values as numbers or create a dummy variable.\n",
    "- For multi-level categoricals (three or more values), encode the values using multiple dummy variables (via [OneHotEncoder]"
   ]
  },
  {
   "cell_type": "markdown",
   "metadata": {},
   "source": [
    "Assess categorical variables: which are binary, which are multi-level, and which one needs to be re-encoded"
   ]
  },
  {
   "cell_type": "code",
   "execution_count": 54,
   "metadata": {
    "scrolled": false
   },
   "outputs": [
    {
     "name": "stdout",
     "output_type": "stream",
     "text": [
      "Categorical features unique values:\n",
      "AGER_TYP : [nan 2.0 3.0 1.0]\n",
      "ANREDE_KZ : [1 2]\n",
      "CJT_GESAMTTYP : [2.0 5.0 3.0 4.0 1.0 6.0 nan]\n",
      "FINANZTYP : [4 1 6 5 2 3]\n",
      "GFK_URLAUBERTYP : [10.0 1.0 5.0 12.0 9.0 3.0 8.0 11.0 4.0 2.0 7.0 6.0 nan]\n",
      "GREEN_AVANTGARDE : [0 1]\n",
      "LP_FAMILIE_FEIN : [2.0 5.0 1.0 nan 10.0 7.0 11.0 3.0 8.0 4.0 6.0 9.0]\n",
      "LP_FAMILIE_GROB : [2.0 3.0 1.0 nan 5.0 4.0]\n",
      "LP_STATUS_FEIN : [1.0 2.0 3.0 9.0 4.0 10.0 5.0 8.0 6.0 7.0 nan]\n",
      "LP_STATUS_GROB : [1.0 2.0 4.0 5.0 3.0 nan]\n",
      "NATIONALITAET_KZ : [nan 1.0 3.0 2.0]\n",
      "SHOPPER_TYP : [nan 3.0 2.0 1.0 0.0]\n",
      "SOHO_KZ : [nan 1.0 0.0]\n",
      "TITEL_KZ : [nan 4.0 1.0 3.0 5.0 2.0]\n",
      "VERS_TYP : [nan 2.0 1.0]\n",
      "ZABEOTYP : [3 5 4 1 6 2]\n",
      "KK_KUNDENTYP : [nan 1.0 3.0 6.0 4.0 2.0 5.0]\n",
      "GEBAEUDETYP : [nan 8.0 1.0 3.0 2.0 6.0 4.0 5.0]\n",
      "OST_WEST_KZ : [nan 'W' 'O']\n",
      "CAMEO_DEUG_2015 : [nan 8.0 4.0 2.0 6.0 1.0 9.0 5.0 7.0 3.0 '4' '3' '7' '2' '8' '9' '6' '5'\n",
      " '1']\n",
      "CAMEO_DEU_2015 : [nan '8A' '4C' '2A' '6B' '8C' '4A' '2D' '1A' '1E' '9D' '5C' '8B' '7A' '5D'\n",
      " '9E' '9B' '1B' '3D' '4E' '4B' '3C' '5A' '7B' '9A' '6D' '6E' '2C' '7C'\n",
      " '9C' '7D' '5E' '1D' '8D' '6C' '6A' '5B' '4D' '3A' '2B' '7E' '3B' '6F'\n",
      " '5F' '1C']\n"
     ]
    }
   ],
   "source": [
    "categoricals = list(feat_info[feat_info['type'] == 'categorical']['attribute'].values)\n",
    "print('Categorical features unique values:')\n",
    "_ = azdias[categoricals].apply(lambda x: print(x.name, ':', x.unique()))"
   ]
  },
  {
   "cell_type": "markdown",
   "metadata": {},
   "source": [
    "The categorical variables that are encoded by non-numerical features are **OST_WEST_KZ ** and **CAMEO_DEU_2015 **"
   ]
  },
  {
   "cell_type": "markdown",
   "metadata": {},
   "source": [
    "#### Discussion 1.2.1: Re-Encode Categorical Features\n"
   ]
  },
  {
   "cell_type": "markdown",
   "metadata": {},
   "source": [
    "All of the categorical variables (except for **GREEN_AVANTGARDE**, which is already encoded as [0,1] binary) are encoded by one-hot encoding. Since categorical features does not have a specific ordering, the relative numerical values does not have any meaning, therefore the ordering effect needs to be removed by encoding these features as one-hot columns"
   ]
  },
  {
   "cell_type": "markdown",
   "metadata": {},
   "source": [
    "#### Step 1.2.2: Engineer Mixed-Type Features\n",
    "\n",
    "There are a handful of features that are marked as \"mixed\" in the feature summary that require special treatment in order to be included in the analysis. \n",
    "- \"PRAEGENDE_JUGENDJAHRE\" combines information on three dimensions: generation by decade, movement (mainstream vs. avantgarde), and nation (east vs. west). While there aren't enough levels to disentangle east from west, I create two new variables to capture the other two dimensions: an interval-type variable for decade, and a binary variable for movement.\n",
    "- \"CAMEO_INTL_2015\" combines information on two axes: wealth and life stage. Break up the two-digit codes by their 'tens'-place and 'ones'-place digits into two new ordinal variables (which, for the purposes of this project, is equivalent to just treating them as their raw numeric values).\n"
   ]
  },
  {
   "cell_type": "code",
   "execution_count": 53,
   "metadata": {
    "scrolled": false
   },
   "outputs": [
    {
     "name": "stdout",
     "output_type": "stream",
     "text": [
      "LP_LEBENSPHASE_FEIN : [15.0 21.0 3.0 nan 32.0 8.0 2.0 5.0 10.0 4.0 6.0 23.0 12.0 20.0 1.0 11.0\n",
      " 25.0 13.0 7.0 18.0 31.0 19.0 38.0 35.0 30.0 22.0 14.0 33.0 29.0 24.0 28.0\n",
      " 37.0 26.0 39.0 27.0 36.0 9.0 34.0 40.0 16.0 17.0]\n",
      "LP_LEBENSPHASE_GROB : [4.0 6.0 1.0 nan 10.0 2.0 3.0 5.0 7.0 12.0 11.0 9.0 8.0]\n",
      "PRAEGENDE_JUGENDJAHRE : [nan 14.0 15.0 8.0 3.0 10.0 11.0 5.0 9.0 6.0 4.0 2.0 1.0 12.0 13.0 7.0]\n",
      "WOHNLAGE : [nan 4.0 2.0 7.0 3.0 5.0 1.0 8.0 0.0]\n",
      "CAMEO_INTL_2015 : [nan 51.0 24.0 12.0 43.0 54.0 22.0 14.0 13.0 15.0 33.0 41.0 34.0 55.0 25.0\n",
      " 23.0 31.0 52.0 35.0 45.0 44.0 32.0 '22' '24' '41' '12' '54' '51' '44'\n",
      " '35' '23' '25' '14' '34' '52' '55' '31' '32' '15' '13' '43' '33' '45']\n",
      "KBA05_BAUMAX : [nan 5.0 1.0 2.0 3.0 4.0]\n",
      "PLZ8_BAUMAX : [nan 1.0 2.0 4.0 5.0 3.0]\n"
     ]
    }
   ],
   "source": [
    "mixed = list(feat_info[feat_info['type'] == 'mixed']['attribute'].values)\n",
    "_ = azdias[mixed].apply(lambda x: print(x.name, ':', x.unique()))"
   ]
  },
  {
   "cell_type": "code",
   "execution_count": 99,
   "metadata": {
    "scrolled": true
   },
   "outputs": [],
   "source": [
    "# Re-encode categorical variable(s) to be kept in the analysis.\n",
    "dropped = set.intersection(set.union(set(attributes_outlier_list),set(columns_to_drop)), set(categoricals), set(mixed))\n",
    "one_hot = set(attributes_outlier_list) - dropped\n",
    "cate_encode = list(set.union(set(categoricals),set(mixed)) \n",
    "                 - dropped - set(['GREEN_AVANTGARDE', 'PRAEGENDE_JUGENDJAHRE', 'CAMEO_INTL_2015']))\n",
    "azdias_dummies = pd.get_dummies(azdias, columns=cate_encode, dummy_na = True)"
   ]
  },
  {
   "cell_type": "markdown",
   "metadata": {},
   "source": [
    "**PRAEGENDE_JUGENDJAHRE**\n",
    "\n",
    "Dominating movement of person's youth (avantgarde vs. mainstream; east vs. west)\n",
    "\n",
    "- -1: unknown\n",
    "- 0: unknown\n",
    "- 1: 40s - war years (Mainstream, E+W)\n",
    "- 2: 40s - reconstruction years (Avantgarde, E+W)\n",
    "- 3: 50s - economic miracle (Mainstream, E+W)\n",
    "- 4: 50s - milk bar / Individualisation (Avantgarde, E+W)\n",
    "- 5: 60s - economic miracle (Mainstream, E+W)\n",
    "- 6: 60s - generation 68 / student protestors (Avantgarde, W)\n",
    "- 7: 60s - opponents to the building of the Wall (Avantgarde, E)\n",
    "- 8: 70s - family orientation (Mainstream, E+W)\n",
    "- 9: 70s - peace movement (Avantgarde, E+W)\n",
    "- 10: 80s - Generation Golf (Mainstream, W)\n",
    "- 11: 80s - ecological awareness (Avantgarde, W)\n",
    "- 12: 80s - FDJ / communist party youth organisation (Mainstream, E)\n",
    "- 13: 80s - Swords into ploughshares (Avantgarde, E)\n",
    "- 14: 90s - digital media kids (Mainstream, E+W)\n",
    "- 15: 90s - ecological awareness (Avantgarde, E+W)\n"
   ]
  },
  {
   "cell_type": "code",
   "execution_count": 35,
   "metadata": {},
   "outputs": [],
   "source": [
    "full_map = pd.DataFrame({-1: [np.nan, np.nan],\n",
    "                          0: [np.nan, np.nan],\n",
    "                          1: [40, 1],\n",
    "                          2: [40, 0],\n",
    "                          3: [50, 1],\n",
    "                          4: [50, 0],\n",
    "                          5: [60, 1],\n",
    "                          6: [60, 0],\n",
    "                          7: [60, 0],\n",
    "                          8: [70, 1],\n",
    "                          9: [70, 0],\n",
    "                          10: [80, 1],\n",
    "                          11: [80, 0],\n",
    "                          12: [80, 1],\n",
    "                          13: [80, 0],\n",
    "                          14: [90, 1],\n",
    "                          15: [90, 0],\n",
    "                        np.nan: [np.nan, np.nan]}).T\n",
    "\n",
    "# Create column that encodes decades\n",
    "decades_map = full_map[0].to_dict()\n",
    "azdias['DECADES'] = azdias['PRAEGENDE_JUGENDJAHRE'].map(decades_map)\n",
    "\n",
    "# Create column that encodes movements \n",
    "movements_map = full_map[1].to_dict()\n",
    "azdias['MOVEMENTS'] = azdias['PRAEGENDE_JUGENDJAHRE'].map(movements_map)"
   ]
  },
  {
   "cell_type": "markdown",
   "metadata": {},
   "source": [
    "**CAMEO_INTL_2015**\n",
    "\n",
    "German CAMEO: Wealth / Life Stage Typology, mapped to international code\n",
    "\n",
    "- -1: unknown\n",
    "- 11: Wealthy Households - Pre-Family Couples & Singles\n",
    "- 12: Wealthy Households - Young Couples With Children\n",
    "- 13: Wealthy Households - Families With School Age Children\n",
    "- 14: Wealthy Households - Older Families &  Mature Couples\n",
    "- 15: Wealthy Households - Elders In Retirement\n",
    "- 21: Prosperous Households - Pre-Family Couples & Singles\n",
    "- 22: Prosperous Households - Young Couples With Children\n",
    "- 23: Prosperous Households - Families With School Age Children\n",
    "- 24: Prosperous Households - Older Families & Mature Couples\n",
    "- 25: Prosperous Households - Elders In Retirement\n",
    "- 31: Comfortable Households - Pre-Family Couples & Singles\n",
    "- 32: Comfortable Households - Young Couples With Children\n",
    "- 33: Comfortable Households - Families With School Age Children\n",
    "- 34: Comfortable Households - Older Families & Mature Couples\n",
    "- 35: Comfortable Households - Elders In Retirement\n",
    "- 41: Less Affluent Households - Pre-Family Couples & Singles\n",
    "- 42: Less Affluent Households - Young Couples With Children\n",
    "- 43: Less Affluent Households - Families With School Age Children\n",
    "- 44: Less Affluent Households - Older Families & Mature Couples\n",
    "- 45: Less Affluent Households - Elders In Retirement\n",
    "- 51: Poorer Households - Pre-Family Couples & Singles\n",
    "- 52: Poorer Households - Young Couples With Children\n",
    "- 53: Poorer Households - Families With School Age Children\n",
    "- 54: Poorer Households - Older Families & Mature Couples\n",
    "- 55: Poorer Households - Elders In Retirement\n",
    "- XX: unknown\n",
    "\n"
   ]
  },
  {
   "cell_type": "code",
   "execution_count": 37,
   "metadata": {},
   "outputs": [],
   "source": [
    "azdias['WEALTH'] = pd.to_numeric(azdias['CAMEO_INTL_2015'])//10\n",
    "azdias['LIFE_STAGE'] = pd.to_numeric(azdias['CAMEO_INTL_2015'])%10"
   ]
  },
  {
   "cell_type": "markdown",
   "metadata": {},
   "source": [
    "#### Discussion 1.2.2: Engineer Mixed-Type Features\n"
   ]
  },
  {
   "cell_type": "markdown",
   "metadata": {},
   "source": [
    "The two columns that contains more than 1 dimensions of data, **PRAEGENDE_JUGENDJAHRE** and **CAMEO_INTL_2015** are engineered in ways that could separate dimensions. The rest of the mixed values columns only contains 1 dimension, therefore are left as the same as their original states"
   ]
  },
  {
   "cell_type": "markdown",
   "metadata": {},
   "source": [
    "#### Step 1.2.3: Complete Feature Selection\n",
    "\n",
    "Now datagrame contains only the columns that you want to keep. \n",
    "- All numeric, interval, and ordinal type columns from the original dataset.\n",
    "- Binary categorical features (all numerically-encoded).\n",
    "- Engineered features from other multi-level categorical features and mixed features.\n"
   ]
  },
  {
   "cell_type": "code",
   "execution_count": 38,
   "metadata": {},
   "outputs": [],
   "source": [
    "outlier_columns = list(set(attributes_outlier_list) - one_hot)\n",
    "azdias.drop((['CAMEO_INTL_2015', 'PRAEGENDE_JUGENDJAHRE'] + outlier_columns), axis = 1, inplace = True)"
   ]
  },
  {
   "cell_type": "markdown",
   "metadata": {},
   "source": [
    "### Step 1.3: Create a Cleaning Function\n",
    "\n",
    "Functions for main feature selection, encoding, and re-engineering steps that performed above. Then, when looking at the customer data in Step 3, we could just run this function on that DataFrame to get the trimmed dataset in a single step."
   ]
  },
  {
   "cell_type": "code",
   "execution_count": 56,
   "metadata": {},
   "outputs": [],
   "source": [
    "def clean_data(df, outlier_columns):\n",
    "    \"\"\"\n",
    "    Perform feature trimming, re-encoding, and engineering for demographics\n",
    "    data\n",
    "    \n",
    "    INPUT: Demographics DataFrame\n",
    "    OUTPUT: Trimmed and cleaned demographics DataFrame\n",
    "    \"\"\"\n",
    "    \n",
    "    # Put in code here to execute all main cleaning steps:\n",
    "    # convert missing value codes into NaNs\n",
    "    feat_info['missing_or_unknown'].replace({'[-1,X]': '[-1,\"X\"]',\n",
    "                                         '[-1,XX]': '[-1,\"XX\"]',\n",
    "                                          '[XX]': '[\"XX\"]'}, inplace = True)\n",
    "    encodings = feat_info.set_index('attribute')['missing_or_unknown'].to_dict()\n",
    "    encodings = {key: {k: np.nan for k in literal_eval(value)} for key, value in encodings.items()}\n",
    "    for columns, mapping in encodings.items():\n",
    "        df[columns].replace(mapping, inplace = True)\n",
    "    \n",
    "    # Drop the outlier columns\n",
    "\n",
    "    df.drop(outlier_columns, axis=1, inplace=True)\n",
    "    \n",
    "    # Remove highly correlated numerical features\n",
    "    df_num = df.select_dtypes(include = ['float64', 'int64'])\n",
    "    \n",
    "    columns_correlated = correlated_columns_to_drop(df_num, 0.95)\n",
    "    df.drop(columns_correlated, axis=1, inplace=True)\n",
    " \n",
    "    # catgorical variables\n",
    "    categoricals = list(feat_info[feat_info['type'] == 'categorical']['attribute'].values)\n",
    "    mixed = list(feat_info[feat_info['type'] == 'categorical']['attribute'].values)\n",
    "    dropped = set.intersection(set.union(set(attributes_outlier_list),set(columns_to_drop)), set(categoricals), set(mixed))\n",
    "    one_hot = set(outlier_columns) - dropped\n",
    "    cate_encode = list(set.union(set(categoricals),set(mixed)) \n",
    "                 - dropped - set(['GREEN_AVANTGARDE', 'PRAEGENDE_JUGENDJAHRE', 'CAMEO_INTL_2015']))\n",
    "    df = pd.get_dummies(df, columns=cate_encode, dummy_na = True)\n",
    "    \n",
    "    # mixed variables - PRAEGENDE_JUGENDJAHRE\n",
    "    full_map = pd.DataFrame({-1: [np.nan, np.nan],\n",
    "                              0: [np.nan, np.nan],\n",
    "                              1: [40, 1],\n",
    "                              2: [40, 0],\n",
    "                              3: [50, 1],\n",
    "                              4: [50, 0],\n",
    "                              5: [60, 1],\n",
    "                              6: [60, 0],\n",
    "                              7: [60, 0],\n",
    "                              8: [70, 1],\n",
    "                              9: [70, 0],\n",
    "                              10: [80, 1],\n",
    "                              11: [80, 0],\n",
    "                              12: [80, 1],\n",
    "                              13: [80, 0],\n",
    "                              14: [90, 1],\n",
    "                              15: [90, 0],\n",
    "                              np.nan: [np.nan, np.nan]}).T\n",
    "\n",
    "    # Create column that encodes decades\n",
    "    decades_map = full_map[0].to_dict()\n",
    "    df['DECADES'] = df['PRAEGENDE_JUGENDJAHRE'].map(decades_map)\n",
    "\n",
    "    # Create column that encodes movements \n",
    "    movements_map = full_map[1].to_dict()\n",
    "    df['MOVEMENTS'] = df['PRAEGENDE_JUGENDJAHRE'].map(movements_map)\n",
    "    \n",
    "    # mixed variables - CAMEO_INTL_2015\n",
    "    df['WEALTH'] = pd.to_numeric(df['CAMEO_INTL_2015'])//10\n",
    "    df['LIFE_STAGE'] = pd.to_numeric(df['CAMEO_INTL_2015'])%10\n",
    "    \n",
    "    # drop extra columns\n",
    "    outlier_columns = list(set(outlier_columns) - one_hot)\n",
    "    df.drop(['CAMEO_INTL_2015', 'PRAEGENDE_JUGENDJAHRE'] + outlier_columns, axis = 1, inplace = True)\n",
    "    \n",
    "    # Return the cleaned dataframe.\n",
    "    return df"
   ]
  },
  {
   "cell_type": "code",
   "execution_count": 63,
   "metadata": {},
   "outputs": [],
   "source": [
    "# Load in the general demographics data.\n",
    "azdias = pd.read_csv('zadias.csv', delimiter=',')"
   ]
  },
  {
   "cell_type": "code",
   "execution_count": 23,
   "metadata": {},
   "outputs": [
    {
     "data": {
      "text/html": [
       "<div>\n",
       "<style scoped>\n",
       "    .dataframe tbody tr th:only-of-type {\n",
       "        vertical-align: middle;\n",
       "    }\n",
       "\n",
       "    .dataframe tbody tr th {\n",
       "        vertical-align: top;\n",
       "    }\n",
       "\n",
       "    .dataframe thead th {\n",
       "        text-align: right;\n",
       "    }\n",
       "</style>\n",
       "<table border=\"1\" class=\"dataframe\">\n",
       "  <thead>\n",
       "    <tr style=\"text-align: right;\">\n",
       "      <th></th>\n",
       "      <th>sum</th>\n",
       "      <th>percent</th>\n",
       "    </tr>\n",
       "  </thead>\n",
       "  <tbody>\n",
       "    <tr>\n",
       "      <th>ALTER_KIND4</th>\n",
       "      <td>890016</td>\n",
       "      <td>99.86</td>\n",
       "    </tr>\n",
       "    <tr>\n",
       "      <th>TITEL_KZ</th>\n",
       "      <td>889061</td>\n",
       "      <td>99.76</td>\n",
       "    </tr>\n",
       "    <tr>\n",
       "      <th>ALTER_KIND3</th>\n",
       "      <td>885051</td>\n",
       "      <td>99.31</td>\n",
       "    </tr>\n",
       "    <tr>\n",
       "      <th>ALTER_KIND2</th>\n",
       "      <td>861722</td>\n",
       "      <td>96.69</td>\n",
       "    </tr>\n",
       "    <tr>\n",
       "      <th>ALTER_KIND1</th>\n",
       "      <td>810163</td>\n",
       "      <td>90.90</td>\n",
       "    </tr>\n",
       "  </tbody>\n",
       "</table>\n",
       "</div>"
      ],
      "text/plain": [
       "                sum  percent\n",
       "ALTER_KIND4  890016    99.86\n",
       "TITEL_KZ     889061    99.76\n",
       "ALTER_KIND3  885051    99.31\n",
       "ALTER_KIND2  861722    96.69\n",
       "ALTER_KIND1  810163    90.90"
      ]
     },
     "execution_count": 23,
     "metadata": {},
     "output_type": "execute_result"
    }
   ],
   "source": [
    "azdias_nan.head()"
   ]
  },
  {
   "cell_type": "markdown",
   "metadata": {},
   "source": [
    "Run azdias through clean data and make sure the columns are the same"
   ]
  },
  {
   "cell_type": "code",
   "execution_count": null,
   "metadata": {
    "collapsed": true
   },
   "outputs": [],
   "source": [
    "outlier_columns = azdias_nan[azdias_nan['percent'] >= 0.3].index.to_list()\n",
    "azdias_clean = clean_data(azdias, outlier_columns)\n",
    "feature_names = list(azdias_clean.columns)"
   ]
  },
  {
   "cell_type": "markdown",
   "metadata": {},
   "source": [
    "## Step 2: Feature Transformation\n",
    "\n",
    "### Step 2.1: Apply Feature Scaling\n",
    "\n",
    "\n",
    "- sklearn requires that data not have missing values in order for its estimators to work properly. So, before applying the scaler, make sure that the DataFrame has no missing values. This can be as simple as just removing all data points with missing data, or applying an [Imputer](http://scikit-learn.org/stable/modules/generated/sklearn.preprocessing.Imputer.html) to replace all missing values. \n",
    "- For the actual scaling function, I used [StandardScaler], scaling each feature to mean 0 and standard deviation 1.\n"
   ]
  },
  {
   "cell_type": "code",
   "execution_count": 60,
   "metadata": {},
   "outputs": [
    {
     "data": {
      "text/html": [
       "<div>\n",
       "<style scoped>\n",
       "    .dataframe tbody tr th:only-of-type {\n",
       "        vertical-align: middle;\n",
       "    }\n",
       "\n",
       "    .dataframe tbody tr th {\n",
       "        vertical-align: top;\n",
       "    }\n",
       "\n",
       "    .dataframe thead th {\n",
       "        text-align: right;\n",
       "    }\n",
       "</style>\n",
       "<table border=\"1\" class=\"dataframe\">\n",
       "  <thead>\n",
       "    <tr style=\"text-align: right;\">\n",
       "      <th></th>\n",
       "      <th>LNR</th>\n",
       "      <th>AKT_DAT_KL</th>\n",
       "      <th>ALTER_HH</th>\n",
       "      <th>ALTER_KIND1</th>\n",
       "      <th>ALTER_KIND2</th>\n",
       "      <th>ALTER_KIND3</th>\n",
       "      <th>ALTER_KIND4</th>\n",
       "      <th>ALTERSKATEGORIE_FEIN</th>\n",
       "      <th>ANZ_HAUSHALTE_AKTIV</th>\n",
       "      <th>ANZ_HH_TITEL</th>\n",
       "      <th>...</th>\n",
       "      <th>ZABEOTYP_nan</th>\n",
       "      <th>ANREDE_KZ_1.0</th>\n",
       "      <th>ANREDE_KZ_2.0</th>\n",
       "      <th>ANREDE_KZ_nan</th>\n",
       "      <th>SOHO_KZ_0.0</th>\n",
       "      <th>SOHO_KZ_1.0</th>\n",
       "      <th>SOHO_KZ_nan</th>\n",
       "      <th>DECADES</th>\n",
       "      <th>WEALTH</th>\n",
       "      <th>LIFE_STAGE</th>\n",
       "    </tr>\n",
       "  </thead>\n",
       "  <tbody>\n",
       "    <tr>\n",
       "      <th>0</th>\n",
       "      <td>910215</td>\n",
       "      <td>NaN</td>\n",
       "      <td>NaN</td>\n",
       "      <td>NaN</td>\n",
       "      <td>NaN</td>\n",
       "      <td>NaN</td>\n",
       "      <td>NaN</td>\n",
       "      <td>NaN</td>\n",
       "      <td>NaN</td>\n",
       "      <td>NaN</td>\n",
       "      <td>...</td>\n",
       "      <td>0</td>\n",
       "      <td>1</td>\n",
       "      <td>0</td>\n",
       "      <td>0</td>\n",
       "      <td>0</td>\n",
       "      <td>0</td>\n",
       "      <td>1</td>\n",
       "      <td>NaN</td>\n",
       "      <td>NaN</td>\n",
       "      <td>NaN</td>\n",
       "    </tr>\n",
       "    <tr>\n",
       "      <th>1</th>\n",
       "      <td>910220</td>\n",
       "      <td>9.0</td>\n",
       "      <td>NaN</td>\n",
       "      <td>NaN</td>\n",
       "      <td>NaN</td>\n",
       "      <td>NaN</td>\n",
       "      <td>NaN</td>\n",
       "      <td>21.0</td>\n",
       "      <td>11.0</td>\n",
       "      <td>0.0</td>\n",
       "      <td>...</td>\n",
       "      <td>0</td>\n",
       "      <td>0</td>\n",
       "      <td>1</td>\n",
       "      <td>0</td>\n",
       "      <td>0</td>\n",
       "      <td>1</td>\n",
       "      <td>0</td>\n",
       "      <td>90.0</td>\n",
       "      <td>5.0</td>\n",
       "      <td>1.0</td>\n",
       "    </tr>\n",
       "    <tr>\n",
       "      <th>2</th>\n",
       "      <td>910225</td>\n",
       "      <td>9.0</td>\n",
       "      <td>17.0</td>\n",
       "      <td>NaN</td>\n",
       "      <td>NaN</td>\n",
       "      <td>NaN</td>\n",
       "      <td>NaN</td>\n",
       "      <td>17.0</td>\n",
       "      <td>10.0</td>\n",
       "      <td>0.0</td>\n",
       "      <td>...</td>\n",
       "      <td>0</td>\n",
       "      <td>0</td>\n",
       "      <td>1</td>\n",
       "      <td>0</td>\n",
       "      <td>1</td>\n",
       "      <td>0</td>\n",
       "      <td>0</td>\n",
       "      <td>90.0</td>\n",
       "      <td>2.0</td>\n",
       "      <td>4.0</td>\n",
       "    </tr>\n",
       "    <tr>\n",
       "      <th>3</th>\n",
       "      <td>910226</td>\n",
       "      <td>1.0</td>\n",
       "      <td>13.0</td>\n",
       "      <td>NaN</td>\n",
       "      <td>NaN</td>\n",
       "      <td>NaN</td>\n",
       "      <td>NaN</td>\n",
       "      <td>13.0</td>\n",
       "      <td>1.0</td>\n",
       "      <td>0.0</td>\n",
       "      <td>...</td>\n",
       "      <td>0</td>\n",
       "      <td>0</td>\n",
       "      <td>1</td>\n",
       "      <td>0</td>\n",
       "      <td>1</td>\n",
       "      <td>0</td>\n",
       "      <td>0</td>\n",
       "      <td>70.0</td>\n",
       "      <td>1.0</td>\n",
       "      <td>2.0</td>\n",
       "    </tr>\n",
       "    <tr>\n",
       "      <th>4</th>\n",
       "      <td>910241</td>\n",
       "      <td>1.0</td>\n",
       "      <td>20.0</td>\n",
       "      <td>NaN</td>\n",
       "      <td>NaN</td>\n",
       "      <td>NaN</td>\n",
       "      <td>NaN</td>\n",
       "      <td>14.0</td>\n",
       "      <td>3.0</td>\n",
       "      <td>0.0</td>\n",
       "      <td>...</td>\n",
       "      <td>0</td>\n",
       "      <td>1</td>\n",
       "      <td>0</td>\n",
       "      <td>0</td>\n",
       "      <td>1</td>\n",
       "      <td>0</td>\n",
       "      <td>0</td>\n",
       "      <td>70.0</td>\n",
       "      <td>4.0</td>\n",
       "      <td>3.0</td>\n",
       "    </tr>\n",
       "  </tbody>\n",
       "</table>\n",
       "<p>5 rows × 589 columns</p>\n",
       "</div>"
      ],
      "text/plain": [
       "      LNR  AKT_DAT_KL  ALTER_HH  ALTER_KIND1  ALTER_KIND2  ALTER_KIND3  \\\n",
       "0  910215         NaN       NaN          NaN          NaN          NaN   \n",
       "1  910220         9.0       NaN          NaN          NaN          NaN   \n",
       "2  910225         9.0      17.0          NaN          NaN          NaN   \n",
       "3  910226         1.0      13.0          NaN          NaN          NaN   \n",
       "4  910241         1.0      20.0          NaN          NaN          NaN   \n",
       "\n",
       "   ALTER_KIND4  ALTERSKATEGORIE_FEIN  ANZ_HAUSHALTE_AKTIV  ANZ_HH_TITEL  ...  \\\n",
       "0          NaN                   NaN                  NaN           NaN  ...   \n",
       "1          NaN                  21.0                 11.0           0.0  ...   \n",
       "2          NaN                  17.0                 10.0           0.0  ...   \n",
       "3          NaN                  13.0                  1.0           0.0  ...   \n",
       "4          NaN                  14.0                  3.0           0.0  ...   \n",
       "\n",
       "   ZABEOTYP_nan  ANREDE_KZ_1.0  ANREDE_KZ_2.0  ANREDE_KZ_nan  SOHO_KZ_0.0  \\\n",
       "0             0              1              0              0            0   \n",
       "1             0              0              1              0            0   \n",
       "2             0              0              1              0            1   \n",
       "3             0              0              1              0            1   \n",
       "4             0              1              0              0            1   \n",
       "\n",
       "   SOHO_KZ_1.0  SOHO_KZ_nan  DECADES  WEALTH  LIFE_STAGE  \n",
       "0            0            1      NaN     NaN         NaN  \n",
       "1            1            0     90.0     5.0         1.0  \n",
       "2            0            0     90.0     2.0         4.0  \n",
       "3            0            0     70.0     1.0         2.0  \n",
       "4            0            0     70.0     4.0         3.0  \n",
       "\n",
       "[5 rows x 589 columns]"
      ]
     },
     "execution_count": 60,
     "metadata": {},
     "output_type": "execute_result"
    }
   ],
   "source": [
    "azdias.head()"
   ]
  },
  {
   "cell_type": "markdown",
   "metadata": {},
   "source": [
    "Missing data impute"
   ]
  },
  {
   "cell_type": "code",
   "execution_count": null,
   "metadata": {},
   "outputs": [],
   "source": [
    "imputer = SimpleImputer()\n",
    "imputer_model = imputer.fit(azdias)\n",
    "azdias_impute = pd.DataFrame(imputer_model.transform(azdias), columns = feature_names)"
   ]
  },
  {
   "cell_type": "markdown",
   "metadata": {},
   "source": [
    "Apply a standard scalar"
   ]
  },
  {
   "cell_type": "code",
   "execution_count": null,
   "metadata": {},
   "outputs": [],
   "source": [
    "scalar = StandardScaler()\n",
    "scalar_model = scalar.fit(azdias_impute)\n",
    "azdias_scaled = pd.DataFrame(scalar_model.transform(azdias_impute), columns = feature_names)"
   ]
  },
  {
   "cell_type": "markdown",
   "metadata": {},
   "source": [
    "### Discussion 2.1: Apply Feature Scaling\n"
   ]
  },
  {
   "cell_type": "markdown",
   "metadata": {},
   "source": [
    "The missing data are imputed first, then the data is scaled. Since the rows that have large number of missing data are dropped before, imputing missing values will not have a large impact on the overall distribution"
   ]
  },
  {
   "cell_type": "markdown",
   "metadata": {},
   "source": [
    "### Step 2.2: Perform Dimensionality Reduction\n",
    "\n",
    "On your scaled data, you are now ready to apply dimensionality reduction techniques.\n",
    "\n",
    "- Use sklearn's [PCA](http://scikit-learn.org/stable/modules/generated/sklearn.decomposition.PCA.html) class to apply principal component analysis on the data, thus finding the vectors of maximal variance in the data. To start, you should not set any parameters (so all components are computed) or set a number of components that is at least half the number of features (so there's enough features to see the general trend in variability).\n",
    "- Check out the ratio of variance explained by each principal component as well as the cumulative variance explained. Try plotting the cumulative or sequential values using matplotlib's [`plot()`](https://matplotlib.org/api/_as_gen/matplotlib.pyplot.plot.html) function. Based on what you find, select a value for the number of transformed features you'll retain for the clustering part of the project.\n",
    "- Once you've made a choice for the number of components to keep, make sure you re-fit a PCA instance to perform the decided-on transformation."
   ]
  },
  {
   "cell_type": "markdown",
   "metadata": {},
   "source": [
    "Apply PCA to the data."
   ]
  },
  {
   "cell_type": "code",
   "execution_count": 29,
   "metadata": {
    "collapsed": true
   },
   "outputs": [],
   "source": [
    "pca = PCA()\n",
    "pca_model= pca.fit(azdias_scaled)\n",
    "azdias_pca = pca_model.transform(azdias_scaled)"
   ]
  },
  {
   "cell_type": "markdown",
   "metadata": {},
   "source": [
    "Plot % variance explained"
   ]
  },
  {
   "cell_type": "code",
   "execution_count": 30,
   "metadata": {
    "collapsed": true
   },
   "outputs": [],
   "source": [
    "def variance_plot(pca):\n",
    "    '''\n",
    "    Creates a variance plot associated with the principal components \n",
    "    \n",
    "    INPUT: pca - the result of instantian of PCA in scikit learn\n",
    "    \n",
    "    OUTPUT: number of components suggested\n",
    "    '''\n",
    "    num_components=len(pca.explained_variance_ratio_)\n",
    "    ind = np.arange(num_components)\n",
    "    vals = pca.explained_variance_ratio_\n",
    " \n",
    "    plt.figure(figsize=(15, 8))\n",
    "    ax = plt.subplot(111)\n",
    "    cumvals = np.cumsum(vals)\n",
    "    ax.bar(ind[:150], vals[:150])\n",
    "    ax.plot(ind[:150], cumvals[:150])\n",
    "    try:\n",
    "        for i in np.arange(0, 150, 10):\n",
    "            ax.annotate(r\"%s%%\" % ((str(cumvals[i]*100)[:4])), (ind[i] , cumvals[i] + 0.02), \n",
    "                        va=\"bottom\", ha=\"center\", fontsize=12)\n",
    "\n",
    "        ax.xaxis.set_tick_params(width=0)\n",
    "        ax.yaxis.set_tick_params(width=2, length=12)\n",
    "        ax.set_xlim([-1, 150])\n",
    "        ax.set_xlabel(\"Principal Component\")\n",
    "        ax.set_ylabel(\"Variance Explained (%)\")\n",
    "        plt.title('Explained Variance Per Principal Component')\n",
    "    except:\n",
    "        pass\n",
    "    \n",
    "    fit_components = np.argmax(cumvals > 0.85)\n",
    "    return fit_components"
   ]
  },
  {
   "cell_type": "code",
   "execution_count": 31,
   "metadata": {
    "scrolled": false
   },
   "outputs": [
    {
     "data": {
      "image/png": "[encoded data removed]",
      "text/plain": [
       "<matplotlib.figure.Figure at 0x1fac400c6d8>"
      ]
     },
     "metadata": {},
     "output_type": "display_data"
    }
   ],
   "source": [
    "fit_components = variance_plot(pca)"
   ]
  },
  {
   "cell_type": "markdown",
   "metadata": {},
   "source": [
    "Find the number of components that will explain at least 85% of the total variance, then reapply PCA"
   ]
  },
  {
   "cell_type": "code",
   "execution_count": 32,
   "metadata": {
    "collapsed": true
   },
   "outputs": [],
   "source": [
    "pca = PCA(fit_components)\n",
    "pca_model= pca.fit(azdias_scaled)\n",
    "azdias_pca = pca_model.transform(azdias_scaled)"
   ]
  },
  {
   "cell_type": "markdown",
   "metadata": {},
   "source": [
    "### Discussion 2.2: Perform Dimensionality Reduction\n",
    "\n"
   ]
  },
  {
   "cell_type": "markdown",
   "metadata": {},
   "source": [
    "According to the scree plot above, I selected the number of components that will represent at least 95% of the total vairances, which gives the number of components to be 120"
   ]
  },
  {
   "cell_type": "markdown",
   "metadata": {},
   "source": [
    "### Step 2.3: Interpret Principal Components\n",
    "\n",
    "Now that we have our transformed principal components, it's a nice idea to check out the weight of each variable on the first few components to see if they can be interpreted in some fashion.\n",
    "\n",
    "As a reminder, each principal component is a unit vector that points in the direction of highest variance (after accounting for the variance captured by earlier principal components). The further a weight is from zero, the more the principal component is in the direction of the corresponding feature. If two features have large weights of the same sign (both positive or both negative), then increases in one tend expect to be associated with increases in the other. To contrast, features with different signs can be expected to show a negative correlation: increases in one variable should result in a decrease in the other.\n",
    "\n",
    "- To investigate the features, you should map each weight to their corresponding feature name, then sort the features according to weight. The most interesting features for each principal component, then, will be those at the beginning and end of the sorted list. Use the data dictionary document to help you understand these most prominent features, their relationships, and what a positive or negative value on the principal component might indicate.\n",
    "- You should investigate and interpret feature associations from the first three principal components in this substep. To help facilitate this, you should write a function that you can call at any time to print the sorted list of feature weights, for the *i*-th principal component. This might come in handy in the next step of the project, when you interpret the tendencies of the discovered clusters."
   ]
  },
  {
   "cell_type": "code",
   "execution_count": 33,
   "metadata": {
    "collapsed": true
   },
   "outputs": [],
   "source": [
    "def getComponentLinkage(pca, component_number, feature_names):\n",
    "    \"\"\"Prints the sorted relevancy of each feature given the component\n",
    "       \n",
    "       INPUT: pca object, the component number, feature names\n",
    "    \"\"\"\n",
    "    component_linkage = pd.DataFrame(pca.components_, columns = feature_names)\n",
    "    relevancy = pd.DataFrame(component_linkage.iloc[component_number + 1,:]\n",
    "                             .transpose().sort_values(ascending = False))\n",
    "    relevancy.columns = ['weights']\n",
    "    \n",
    "    return relevancy.head(5), relevancy.tail(5).sort_values('weights')"
   ]
  },
  {
   "cell_type": "code",
   "execution_count": 34,
   "metadata": {
    "collapsed": true
   },
   "outputs": [],
   "source": [
    "def visualizeRelevancy(head_df, tail_df, PC_number):\n",
    "    \"\"\"Plot the top and bottom weights of PCs  \n",
    "       \n",
    "       INPUT: head, tail dfs\n",
    "    \"\"\"\n",
    "    \n",
    "    # create subplots\n",
    "    ind = np.arange(len(head_df))\n",
    "    fig, (ax1, ax2) = plt.subplots(1, 2, sharey = True, figsize = (16, 5))\n",
    "    plt.setp(ax1.xaxis.get_majorticklabels(), rotation=45)\n",
    "    plt.setp(ax2.xaxis.get_majorticklabels(), rotation=45)\n",
    "    ax1.set_title('Highest Positive Relevancy')\n",
    "    ax2.set_title('Highest Negative Relevancy')\n",
    "    sns.barplot(x = head_df.index, y = head_df['weights'],  ax = ax1)\n",
    "    sns.barplot(x = tail_df.index, y = tail_df['weights'], ax = ax2, data = tail_df)\n",
    "    \n",
    "    for i in range(len(head_df)):\n",
    "        ax1.annotate(r\"%s%%\" % ((str(head_df['weights'][i]*100)[:4])), (ind[i] , -0.06), \n",
    "                    va=\"bottom\", ha=\"center\", fontsize=12)\n",
    "        ax2.annotate(r\"%s%%\" % ((str(tail_df['weights'][i]*100)[:5])), (ind[i] , 0.02), \n",
    "                    va=\"bottom\", ha=\"center\", fontsize=12)\n",
    "    plt.ylabel('Weights')\n",
    "    plt.suptitle('PC' + str(PC_number))"
   ]
  },
  {
   "cell_type": "markdown",
   "metadata": {},
   "source": [
    "First component relevancy"
   ]
  },
  {
   "cell_type": "code",
   "execution_count": 35,
   "metadata": {},
   "outputs": [
    {
     "data": {
      "image/png": "[encoded data removed]",
      "text/plain": [
       "<matplotlib.figure.Figure at 0x1fac3c1c668>"
      ]
     },
     "metadata": {},
     "output_type": "display_data"
    }
   ],
   "source": [
    "c1_head, c1_tail = getComponentLinkage(pca_model, 1, feature_names)\n",
    "visualizeRelevancy(c1_head, c1_tail, 1)"
   ]
  },
  {
   "cell_type": "markdown",
   "metadata": {},
   "source": [
    "Second component relevancy"
   ]
  },
  {
   "cell_type": "code",
   "execution_count": 36,
   "metadata": {},
   "outputs": [
    {
     "data": {
      "image/png": "[encoded data removed]",
      "text/plain": [
       "<matplotlib.figure.Figure at 0x1fab187af60>"
      ]
     },
     "metadata": {},
     "output_type": "display_data"
    }
   ],
   "source": [
    "c2_head, c2_tail = getComponentLinkage(pca, 2, feature_names)\n",
    "visualizeRelevancy(c2_head, c2_tail, 2)"
   ]
  },
  {
   "cell_type": "markdown",
   "metadata": {},
   "source": [
    "Third component relevancy"
   ]
  },
  {
   "cell_type": "code",
   "execution_count": 37,
   "metadata": {},
   "outputs": [
    {
     "data": {
      "image/png": "[encoded data removed]",
      "text/plain": [
       "<matplotlib.figure.Figure at 0x1fac20c64e0>"
      ]
     },
     "metadata": {},
     "output_type": "display_data"
    }
   ],
   "source": [
    "c3_head, c3_tail = getComponentLinkage(pca, 3, feature_names)\n",
    "visualizeRelevancy(c3_head, c3_tail, 3)"
   ]
  },
  {
   "cell_type": "markdown",
   "metadata": {},
   "source": [
    "### Discussion 2.3: Interpret Principal Components\n"
   ]
  },
  {
   "cell_type": "markdown",
   "metadata": {},
   "source": [
    "**First Component**"
   ]
  },
  {
   "cell_type": "markdown",
   "metadata": {},
   "source": [
    "The first component is mix a person's personality topology, financial topology and age factors. Most of the weights are relatively uniform. Esitmated age has opposite weights with person's birth decades, which aligns with our intuition\n",
    "\n",
    "Top positively correlated features with PC1,\n",
    "\n",
    "* Energy comsuption topology (**ZABEOTYP - Fairly Supplied**) ~ 21.8 %\n",
    "* Finacial topology -be prepared (**FINANZ_VORSORGER**) ~17.7 %\n",
    "* Estimated age (**ALTERSKATEGORIE_GROB**) ~ 17.4 %\n",
    "\n",
    "Top negatively correlated features with PC1,\n",
    "\n",
    "* Person's birth decades (**DECADES**)  ~ -21.5 % \n",
    "* Traditional minded (**SEMIO_TRADEV**)  ~ -19.2 %\n",
    "* Cultural minded (**SEMIO_KULT**) ~ -18.1 %\n",
    "\n"
   ]
  },
  {
   "cell_type": "markdown",
   "metadata": {},
   "source": [
    "**Second Component**"
   ]
  },
  {
   "cell_type": "markdown",
   "metadata": {},
   "source": [
    "The second component is mostly related to genders of customers and perosnality traits. The male and female represents the largest positive and negative weights.\n",
    "\n",
    "Top positively correlated features with PC2,\n",
    "\n",
    "\n",
    "* Gender - Male (**ANREDE_KZ_1**) ~33.3 %\n",
    "* Family minded (**SEMIO_FAM**) ~ 17.4 %\n",
    "* Dreamful personalities (**SEMIO_VERT**) ~ 17.7 %\n",
    "\n",
    "the negatively correlated features with PC2,\n",
    "\n",
    "* Gender - Male (**ANREDE_KZ_2**) ~ - 33.3%\n",
    "* Combative personalities (**SEMIO_KAEM**) ~ - 28.4%\n",
    "* Dominated personalities (**SEMIO_DOM**) ~ - 25.8%\n",
    "\n",
    "Opposite personalities traits are captured in PC2, as more peaceful personalities have large positive weights and more aggressive personalities have large negative weights. Personalities has significant effects on personal behaviors, the weights in second component valided the point"
   ]
  },
  {
   "cell_type": "markdown",
   "metadata": {},
   "source": [
    "**Third Component**"
   ]
  },
  {
   "cell_type": "markdown",
   "metadata": {},
   "source": [
    "The third components is describing the person's life stages, family traits and income levels. \n",
    "\n",
    "Top positively correlated feattures with PC3,\n",
    "\n",
    "* Life stages - rough scale (**LP_LEBENSPHASE_GROB**) ~ 25.2 %\n",
    "* Life stages - fine scale (**LP_LEBENSPHASE_FEIN**) ~ 25.0 %\n",
    "* Number of adults in house (**ANZ_PERSONEN**) ~ 21.9 %\n",
    "\n",
    "Top negatively correlated features with PC3,\n",
    "\n",
    "* Family type - fine scale (**LP_FAMILIE_FEIN**) ~ - 23.4 %\n",
    "* Family type - rough scale (**LP_FAMILIE_GROB**) ~ - 23.4 %\n",
    "* Movements (**MOVEMENTS**) ~ - 18.6 %\n",
    "\n",
    "Different types of families, life stages and the immigrating activities will also affects people's behaviors. "
   ]
  },
  {
   "cell_type": "markdown",
   "metadata": {},
   "source": [
    "## Step 3: Clustering\n",
    "\n",
    "### Step 3.1: Apply Clustering to General Population\n",
    "\n",
    "You've assessed and cleaned the demographics data, then scaled and transformed them. Now, it's time to see how the data clusters in the principal components space. In this substep, you will apply k-means clustering to the dataset and use the average within-cluster distances from each point to their assigned cluster's centroid to decide on a number of clusters to keep.\n",
    "\n",
    "- Use sklearn's [KMeans](http://scikit-learn.org/stable/modules/generated/sklearn.cluster.KMeans.html#sklearn.cluster.KMeans) class to perform k-means clustering on the PCA-transformed data.\n",
    "- Then, compute the average difference from each point to its assigned cluster's center. **Hint**: The KMeans object's `.score()` method might be useful here, but note that in sklearn, scores tend to be defined so that larger is better. Try applying it to a small, toy dataset, or use an internet search to help your understanding.\n",
    "- Perform the above two steps for a number of different cluster counts. You can then see how the average distance decreases with an increasing number of clusters. However, each additional cluster provides a smaller net benefit. Use this fact to select a final number of clusters in which to group the data. **Warning**: because of the large size of the dataset, it can take a long time for the algorithm to resolve. The more clusters to fit, the longer the algorithm will take. You should test for cluster counts through at least 10 clusters to get the full picture, but you shouldn't need to test for a number of clusters above about 30.\n",
    "- Once you've selected a final number of clusters to use, re-fit a KMeans instance to perform the clustering operation. Make sure that you also obtain the cluster assignments for the general demographics data, since you'll be using them in the final Step 3.3."
   ]
  },
  {
   "cell_type": "code",
   "execution_count": 38,
   "metadata": {
    "collapsed": true
   },
   "outputs": [],
   "source": [
    "cluster_nums =  [1, 4, 8] + list(np.arange(10, 36, 5)) \n",
    "avg_d = []\n",
    "for i in cluster_nums:\n",
    "    # run k-means clustering on the data\n",
    "    kmeans = KMeans(i)\n",
    "    kmeans.fit(azdias_pca)\n",
    "    # compute the average within-cluster distances\n",
    "    avg_d.append(-kmeans.score(azdias_pca))"
   ]
  },
  {
   "cell_type": "markdown",
   "metadata": {},
   "source": [
    "Plot the scores and find the right number of clusters using the elbow method"
   ]
  },
  {
   "cell_type": "code",
   "execution_count": 39,
   "metadata": {},
   "outputs": [
    {
     "data": {
      "image/png": "[encoded data removed]",
      "text/plain": [
       "<matplotlib.figure.Figure at 0x1fac212b2b0>"
      ]
     },
     "metadata": {},
     "output_type": "display_data"
    }
   ],
   "source": [
    "plt.figure(figsize=(10, 7))\n",
    "plt.plot(cluster_nums, avg_d,  linestyle='--', \n",
    "         marker='o')\n",
    "\n",
    "plt.xlabel('Number of Clusters')\n",
    "plt.ylabel('Average Distance')\n",
    "plt.title('Average Distance Between Points and Cluster Center VS. Number of Clusters')\n",
    "plt.show()"
   ]
  },
  {
   "cell_type": "markdown",
   "metadata": {},
   "source": [
    "From the plot above, though there is no obvious elbow in the dataset, the number of clusters could be chosen as 25. The below selection also shows 25 is the number of clusters that should be implemented"
   ]
  },
  {
   "cell_type": "code",
   "execution_count": 40,
   "metadata": {
    "collapsed": true
   },
   "outputs": [],
   "source": [
    "d_change = np.diff(avg_d)\n",
    "n_clusters = cluster_nums[np.argmin(abs(d_change)) - 1]"
   ]
  },
  {
   "cell_type": "markdown",
   "metadata": {},
   "source": [
    "Refit the K means cluster"
   ]
  },
  {
   "cell_type": "code",
   "execution_count": 41,
   "metadata": {},
   "outputs": [],
   "source": [
    "kmeans = KMeans(n_clusters)\n",
    "kmeans_best = kmeans.fit(azdias_pca)\n",
    "azdias_impute['clusters'] = kmeans_best.predict(azdias_pca)"
   ]
  },
  {
   "cell_type": "markdown",
   "metadata": {},
   "source": [
    "### Discussion 3.1: Apply Clustering to General Population\n"
   ]
  },
  {
   "cell_type": "markdown",
   "metadata": {},
   "source": [
    "Using the elbow method, the average distance does not decrease a lot after number of clusters reaches 20. The appropriate number of clusters is therefore chosen to be 20"
   ]
  },
  {
   "cell_type": "markdown",
   "metadata": {},
   "source": [
    "### Step 3.2: Apply All Steps to the Customer Data\n",
    "\n",
    "Now that you have clusters and cluster centers for the general population, it's time to see how the customer data maps on to those clusters. Take care to not confuse this for re-fitting all of the models to the customer data. Instead, you're going to use the fits from the general population to clean, transform, and cluster the customer data. In the last step of the project, you will interpret how the general population fits apply to the customer data.\n",
    "\n",
    "- Don't forget when loading in the customers data, that it is semicolon (`;`) delimited.\n",
    "- Apply the same feature wrangling, selection, and engineering steps to the customer demographics using the `clean_data()` function you created earlier. (You can assume that the customer demographics data has similar meaning behind missing data patterns as the general demographics data.)\n",
    "- Use the sklearn objects from the general demographics data, and apply their transformations to the customers data. That is, you should not be using a `.fit()` or `.fit_transform()` method to re-fit the old objects, nor should you be creating new sklearn objects! Carry the data through the feature scaling, PCA, and clustering steps, obtaining cluster assignments for all of the data in the customer demographics data."
   ]
  },
  {
   "cell_type": "code",
   "execution_count": 42,
   "metadata": {
    "collapsed": true
   },
   "outputs": [],
   "source": [
    "# Load in the customer demographics data.\n",
    "customers = pd.read_csv('Udacity_CUSTOMERS_Subset.csv', delimiter=';')"
   ]
  },
  {
   "cell_type": "markdown",
   "metadata": {},
   "source": [
    "Apply preprocessing, feature transformation, and clustering from the general demographics onto the customer data, \n",
    "obtaining cluster predictions for the customer demographics data."
   ]
  },
  {
   "cell_type": "code",
   "execution_count": 43,
   "metadata": {
    "collapsed": true
   },
   "outputs": [],
   "source": [
    "customers = clean_data(customers, outlier_columns)"
   ]
  },
  {
   "cell_type": "markdown",
   "metadata": {},
   "source": [
    "Fit PCA using the same sklearn object used to fit the demographics data"
   ]
  },
  {
   "cell_type": "code",
   "execution_count": 44,
   "metadata": {
    "collapsed": true
   },
   "outputs": [],
   "source": [
    "def transform_data(df, feature_names, imputer, scalar, pca):\n",
    "    \"\"\"Impute, Scale and find PCA of the input data\"\"\"\n",
    "    if set(feature_names) != set(df.columns):\n",
    "        missing_cols = list(set(feature_names) - set(df.columns))\n",
    "        df = pd.concat([df, pd.DataFrame(columns = missing_cols)])\n",
    "        df = df.reindex(columns = feature_names)\n",
    "        df[missing_cols] = 0\n",
    "    df_imputed = imputer.transform(df)\n",
    "    df_scaled = scalar.transform(df_imputed)\n",
    "    df_pca = pca.transform(df_scaled)\n",
    "    \n",
    "    return df_pca, pd.DataFrame(df_imputed, columns=feature_names)"
   ]
  },
  {
   "cell_type": "code",
   "execution_count": 45,
   "metadata": {
    "collapsed": true
   },
   "outputs": [],
   "source": [
    "customers_pca, customers_impute = transform_data(customers, feature_names, imputer_model, scalar_model, pca_model)"
   ]
  },
  {
   "cell_type": "markdown",
   "metadata": {},
   "source": [
    "Fit the clustering object on customer level data"
   ]
  },
  {
   "cell_type": "code",
   "execution_count": 46,
   "metadata": {
    "collapsed": true
   },
   "outputs": [],
   "source": [
    "customers_impute['clusters'] = kmeans_best.predict(customers_pca)"
   ]
  },
  {
   "cell_type": "markdown",
   "metadata": {},
   "source": [
    "### Step 3.3: Compare Customer Data to Demographics Data\n",
    "\n",
    "At this point, you have clustered data based on demographics of the general population of Germany, and seen how the customer data for a mail-order sales company maps onto those demographic clusters. In this final substep, you will compare the two cluster distributions to see where the strongest customer base for the company is.\n",
    "\n",
    "Consider the proportion of persons in each cluster for the general population, and the proportions for the customers. If we think the company's customer base to be universal, then the cluster assignment proportions should be fairly similar between the two. If there are only particular segments of the population that are interested in the company's products, then we should see a mismatch from one to the other. If there is a higher proportion of persons in a cluster for the customer data compared to the general population (e.g. 5% of persons are assigned to a cluster for the general population, but 15% of the customer data is closest to that cluster's centroid) then that suggests the people in that cluster to be a target audience for the company. On the other hand, the proportion of the data in a cluster being larger in the general population than the customer data (e.g. only 2% of customers closest to a population centroid that captures 6% of the data) suggests that group of persons to be outside of the target demographics.\n",
    "\n",
    "Take a look at the following points in this step:\n",
    "\n",
    "- Compute the proportion of data points in each cluster for the general population and the customer data. Visualizations will be useful here: both for the individual dataset proportions, but also to visualize the ratios in cluster representation between groups. Seaborn's [`countplot()`](https://seaborn.pydata.org/generated/seaborn.countplot.html) or [`barplot()`](https://seaborn.pydata.org/generated/seaborn.barplot.html) function could be handy.\n",
    "  - Recall the analysis you performed in step 1.1.3 of the project, where you separated out certain data points from the dataset if they had more than a specified threshold of missing values. If you found that this group was qualitatively different from the main bulk of the data, you should treat this as an additional data cluster in this analysis. Make sure that you account for the number of data points in this subset, for both the general population and customer datasets, when making your computations!\n",
    "- Which cluster or clusters are overrepresented in the customer dataset compared to the general population? Select at least one such cluster and infer what kind of people might be represented by that cluster. Use the principal component interpretations from step 2.3 or look at additional components to help you make this inference. Alternatively, you can use the `.inverse_transform()` method of the PCA and StandardScaler objects to transform centroids back to the original data space and interpret the retrieved values directly.\n",
    "- Perform a similar investigation for the underrepresented clusters. Which cluster or clusters are underrepresented in the customer dataset compared to the general population, and what kinds of people are typified by these clusters?"
   ]
  },
  {
   "cell_type": "markdown",
   "metadata": {},
   "source": [
    "Group count on all the data in different clusters"
   ]
  },
  {
   "cell_type": "code",
   "execution_count": 47,
   "metadata": {
    "collapsed": true
   },
   "outputs": [],
   "source": [
    "# general demographics\n",
    "azdias_clusters_cnt = pd.DataFrame(azdias_impute.groupby(['clusters'], as_index= False).count().iloc[:, :2])\n",
    "azdias_clusters_cnt.iloc[:, 1] = azdias_clusters_cnt.iloc[:, 1]/sum(azdias_clusters_cnt.iloc[:, 1]) *100\n",
    "azdias_clusters_cnt['dataset'] = 'General'\n",
    "\n",
    "# customers demographics\n",
    "customers_clusters_cnt = pd.DataFrame(customers_impute.groupby(['clusters'], as_index= False).count().iloc[:, :2])\n",
    "customers_clusters_cnt.iloc[:, 1] = customers_clusters_cnt.iloc[:, 1]/sum(customers_clusters_cnt.iloc[:, 1]) *100\n",
    "customers_clusters_cnt['dataset'] = 'Customers'"
   ]
  },
  {
   "cell_type": "markdown",
   "metadata": {},
   "source": [
    "Concatenate clusters together"
   ]
  },
  {
   "cell_type": "code",
   "execution_count": 48,
   "metadata": {
    "collapsed": true
   },
   "outputs": [],
   "source": [
    "clusters_cnt = pd.concat([azdias_clusters_cnt, customers_clusters_cnt])\n",
    "clusters_cnt.columns = ['clusters','percentage %','dataset'] "
   ]
  },
  {
   "cell_type": "markdown",
   "metadata": {},
   "source": [
    "Visualize the % of datapoints in each cluster"
   ]
  },
  {
   "cell_type": "code",
   "execution_count": 49,
   "metadata": {},
   "outputs": [
    {
     "data": {
      "image/png": "[encoded data removed]",
      "text/plain": [
       "<matplotlib.figure.Figure at 0x1fac24c1978>"
      ]
     },
     "metadata": {},
     "output_type": "display_data"
    }
   ],
   "source": [
    "plt.figure(figsize=(10, 7))\n",
    "sns.barplot(data=clusters_cnt, x = 'clusters', y ='percentage %',  hue = 'dataset')\n",
    "plt.title('Clusters Visualizations for General and Customer Demographics')\n",
    "plt.show()"
   ]
  },
  {
   "cell_type": "markdown",
   "metadata": {},
   "source": [
    "Select over and under represented clusters"
   ]
  },
  {
   "cell_type": "code",
   "execution_count": 50,
   "metadata": {
    "collapsed": true
   },
   "outputs": [],
   "source": [
    "# pivot cluster tables\n",
    "clusters_pivot = clusters_cnt.pivot(index = 'clusters',  columns= 'dataset', values= 'percentage %')\n",
    "clusters_pivot['difference %'] = clusters_pivot['Customers'] - clusters_pivot['General']"
   ]
  },
  {
   "cell_type": "markdown",
   "metadata": {},
   "source": [
    "### Discussion 3.3: Compare Customer Data to Demographics Data"
   ]
  },
  {
   "cell_type": "code",
   "execution_count": 51,
   "metadata": {
    "collapsed": true
   },
   "outputs": [],
   "source": [
    "def getCentroids(centroids_nums, feature_names, customers):\n",
    "    \"\"\"Get the features given the cluster centroid numbers\"\"\"\n",
    "    centroids = customers[customers['clusters'].isin(centroids_nums)]\n",
    "    return pd.DataFrame(centroids.iloc[:, :-1].mean()).T"
   ]
  },
  {
   "cell_type": "code",
   "execution_count": 52,
   "metadata": {
    "collapsed": true
   },
   "outputs": [],
   "source": [
    "def getMeanRest(centroids_nums, customers):\n",
    "    \"\"\"Get the mean of the rest of the data\"\"\"\n",
    "    rest_customers = customers[~customers['clusters'].isin(centroids_nums)]\n",
    "    return pd.DataFrame(rest_customers.iloc[:, :-1].mean()).T"
   ]
  },
  {
   "cell_type": "markdown",
   "metadata": {},
   "source": [
    "**Overrepresented population**"
   ]
  },
  {
   "cell_type": "markdown",
   "metadata": {},
   "source": [
    "Select the top 2 over represented clusters, 18 and 20"
   ]
  },
  {
   "cell_type": "code",
   "execution_count": 53,
   "metadata": {
    "collapsed": true
   },
   "outputs": [],
   "source": [
    "overrepresented  = list(clusters_pivot['difference %'].sort_values(ascending = False).head(2).index)"
   ]
  },
  {
   "cell_type": "code",
   "execution_count": 54,
   "metadata": {},
   "outputs": [],
   "source": [
    "clusters_diff = pd.concat([getCentroids([overrepresented[0]], feature_names,customers_impute ), \n",
    "                           getCentroids([overrepresented[1]], feature_names, customers_impute), \n",
    "                           getMeanRest(overrepresented, customers_impute)])\n",
    "clusters_diff.set_index(pd.Series(overrepresented + ['rest']), inplace = True)"
   ]
  },
  {
   "cell_type": "markdown",
   "metadata": {},
   "source": [
    "Find representative features"
   ]
  },
  {
   "cell_type": "code",
   "execution_count": 55,
   "metadata": {
    "collapsed": true
   },
   "outputs": [],
   "source": [
    "average_diff = (abs(clusters_diff.loc[overrepresented[0]] - clusters_diff.loc['rest']) \n",
    "                + abs(clusters_diff.loc[overrepresented[1]] - clusters_diff.loc['rest']))/2\n",
    "top5_diff = list(average_diff.sort_values(ascending = False).head(5).index)"
   ]
  },
  {
   "cell_type": "markdown",
   "metadata": {},
   "source": [
    "Visualize cluster the top 5 different features"
   ]
  },
  {
   "cell_type": "code",
   "execution_count": 56,
   "metadata": {},
   "outputs": [
    {
     "data": {
      "text/html": [
       "<div>\n",
       "<style scoped>\n",
       "    .dataframe tbody tr th:only-of-type {\n",
       "        vertical-align: middle;\n",
       "    }\n",
       "\n",
       "    .dataframe tbody tr th {\n",
       "        vertical-align: top;\n",
       "    }\n",
       "\n",
       "    .dataframe thead th {\n",
       "        text-align: right;\n",
       "    }\n",
       "</style>\n",
       "<table border=\"1\" class=\"dataframe\">\n",
       "  <thead>\n",
       "    <tr style=\"text-align: right;\">\n",
       "      <th></th>\n",
       "      <th>KBA13_ANZAHL_PKW</th>\n",
       "      <th>DECADES</th>\n",
       "      <th>GEBURTSJAHR</th>\n",
       "      <th>LP_LEBENSPHASE_FEIN</th>\n",
       "      <th>ANZ_HAUSHALTE_AKTIV</th>\n",
       "    </tr>\n",
       "  </thead>\n",
       "  <tbody>\n",
       "    <tr>\n",
       "      <th>9</th>\n",
       "      <td>619.698207</td>\n",
       "      <td>73.328046</td>\n",
       "      <td>1967.102689</td>\n",
       "      <td>16.332161</td>\n",
       "      <td>8.354924</td>\n",
       "    </tr>\n",
       "    <tr>\n",
       "      <th>24</th>\n",
       "      <td>694.675669</td>\n",
       "      <td>55.834402</td>\n",
       "      <td>1953.619264</td>\n",
       "      <td>28.864037</td>\n",
       "      <td>1.553170</td>\n",
       "    </tr>\n",
       "    <tr>\n",
       "      <th>rest</th>\n",
       "      <td>656.748831</td>\n",
       "      <td>60.466167</td>\n",
       "      <td>1956.264147</td>\n",
       "      <td>22.644504</td>\n",
       "      <td>6.186470</td>\n",
       "    </tr>\n",
       "  </tbody>\n",
       "</table>\n",
       "</div>"
      ],
      "text/plain": [
       "      KBA13_ANZAHL_PKW    DECADES  GEBURTSJAHR  LP_LEBENSPHASE_FEIN  \\\n",
       "9           619.698207  73.328046  1967.102689            16.332161   \n",
       "24          694.675669  55.834402  1953.619264            28.864037   \n",
       "rest        656.748831  60.466167  1956.264147            22.644504   \n",
       "\n",
       "      ANZ_HAUSHALTE_AKTIV  \n",
       "9                8.354924  \n",
       "24               1.553170  \n",
       "rest             6.186470  "
      ]
     },
     "execution_count": 56,
     "metadata": {},
     "output_type": "execute_result"
    }
   ],
   "source": [
    "clusters_diff[top5_diff]"
   ]
  },
  {
   "cell_type": "code",
   "execution_count": 57,
   "metadata": {},
   "outputs": [
    {
     "data": {
      "image/png": "[encoded data removed]",
      "text/plain": [
       "<matplotlib.figure.Figure at 0x1fac2ba1d30>"
      ]
     },
     "metadata": {},
     "output_type": "display_data"
    }
   ],
   "source": [
    "clusters_diff[top5_diff].apply(lambda x: x/ max(x)).T.plot(kind = 'bar', \n",
    "                                                    figsize = (10, 6),\n",
    "                                                    title = 'Top 5 different features (Scaled), Overrepresented vs. Rest')\n",
    "plt.xticks(rotation = 30)\n",
    "plt.show()"
   ]
  },
  {
   "cell_type": "markdown",
   "metadata": {},
   "source": [
    "Cluster 9, the most over represented cluster, is showing signnificant differences in these 5 features with the rest of populations. In some features dimensions, the second most overrepresented cluster 24, also have significant differences with the rest of the populations in a different way. "
   ]
  },
  {
   "cell_type": "markdown",
   "metadata": {},
   "source": [
    "In particular, cluster 9 has the following characteristics besides the rest\n",
    "\n",
    "* Lower number of cars in region (**KBA13_ANZAHL_PKW**)   --- Lower income\n",
    "* Higher value in birth decade (**DECADES**), lower birth year (1967) (**GEBURTSJAHR**)  --- Mid aged population\n",
    "* Life stage (**LP_LEBENSPHASE_FEIN**) close to 16 -- Average earners couples\n",
    "\n",
    "cluster 24 has the following characteristics besides the rest \n",
    "\n",
    "* Higher number of cars in region (**KBA13_ANZAHL_PKW**)   --- Higher income\n",
    "* Lower value in birth decade (**DECADES**), lower birth year (1953) (**GEBURTSJAHR**)  --- Elderly population\n",
    "* Life stage (**LP_LEBENSPHASE_FEIN**) close to 28 -- Top earners"
   ]
  },
  {
   "cell_type": "markdown",
   "metadata": {},
   "source": [
    "Arvato's primary customers seems to be individuals who are middle-aged to elderly, has a family, average to top earners."
   ]
  },
  {
   "cell_type": "markdown",
   "metadata": {},
   "source": [
    "**Underrepresented Clusters**"
   ]
  },
  {
   "cell_type": "markdown",
   "metadata": {},
   "source": [
    "Select the top 2 under represented clusters, 15 and 16"
   ]
  },
  {
   "cell_type": "code",
   "execution_count": 58,
   "metadata": {
    "collapsed": true
   },
   "outputs": [],
   "source": [
    "underrepresented = list(clusters_pivot['difference %'].sort_values(ascending = False).dropna().tail(2).index)"
   ]
  },
  {
   "cell_type": "code",
   "execution_count": 59,
   "metadata": {},
   "outputs": [],
   "source": [
    "clusters_diff = pd.concat([getCentroids([underrepresented[0]], feature_names ,customers_impute), \n",
    "                           getCentroids([underrepresented[1]], feature_names,customers_impute), \n",
    "                           getMeanRest(underrepresented, customers_impute)])\n",
    "clusters_diff.set_index(pd.Series(underrepresented + ['rest']), inplace = True)"
   ]
  },
  {
   "cell_type": "code",
   "execution_count": 60,
   "metadata": {},
   "outputs": [],
   "source": [
    "average_diff = (abs(clusters_diff.loc[underrepresented[0]] - clusters_diff.loc['rest']) \n",
    "                + abs(clusters_diff.loc[underrepresented[1]] - clusters_diff.loc['rest']))/2\n",
    "top5_diff = list(average_diff.sort_values(ascending=False).head(5).index)"
   ]
  },
  {
   "cell_type": "code",
   "execution_count": 61,
   "metadata": {},
   "outputs": [
    {
     "data": {
      "text/html": [
       "<div>\n",
       "<style scoped>\n",
       "    .dataframe tbody tr th:only-of-type {\n",
       "        vertical-align: middle;\n",
       "    }\n",
       "\n",
       "    .dataframe tbody tr th {\n",
       "        vertical-align: top;\n",
       "    }\n",
       "\n",
       "    .dataframe thead th {\n",
       "        text-align: right;\n",
       "    }\n",
       "</style>\n",
       "<table border=\"1\" class=\"dataframe\">\n",
       "  <thead>\n",
       "    <tr style=\"text-align: right;\">\n",
       "      <th></th>\n",
       "      <th>KBA13_ANZAHL_PKW</th>\n",
       "      <th>DECADES</th>\n",
       "      <th>GEBURTSJAHR</th>\n",
       "      <th>LP_LEBENSPHASE_FEIN</th>\n",
       "      <th>ANZ_HAUSHALTE_AKTIV</th>\n",
       "    </tr>\n",
       "  </thead>\n",
       "  <tbody>\n",
       "    <tr>\n",
       "      <th>7</th>\n",
       "      <td>721.796890</td>\n",
       "      <td>83.814499</td>\n",
       "      <td>1974.850683</td>\n",
       "      <td>13.001715</td>\n",
       "      <td>4.692734</td>\n",
       "    </tr>\n",
       "    <tr>\n",
       "      <th>2</th>\n",
       "      <td>487.111996</td>\n",
       "      <td>84.919094</td>\n",
       "      <td>1975.162247</td>\n",
       "      <td>12.537518</td>\n",
       "      <td>13.771688</td>\n",
       "    </tr>\n",
       "    <tr>\n",
       "      <th>rest</th>\n",
       "      <td>655.004609</td>\n",
       "      <td>62.308560</td>\n",
       "      <td>1958.020757</td>\n",
       "      <td>22.319477</td>\n",
       "      <td>5.923502</td>\n",
       "    </tr>\n",
       "  </tbody>\n",
       "</table>\n",
       "</div>"
      ],
      "text/plain": [
       "      KBA13_ANZAHL_PKW    DECADES  GEBURTSJAHR  LP_LEBENSPHASE_FEIN  \\\n",
       "7           721.796890  83.814499  1974.850683            13.001715   \n",
       "2           487.111996  84.919094  1975.162247            12.537518   \n",
       "rest        655.004609  62.308560  1958.020757            22.319477   \n",
       "\n",
       "      ANZ_HAUSHALTE_AKTIV  \n",
       "7                4.692734  \n",
       "2               13.771688  \n",
       "rest             5.923502  "
      ]
     },
     "execution_count": 61,
     "metadata": {},
     "output_type": "execute_result"
    }
   ],
   "source": [
    "clusters_diff[top5_diff]"
   ]
  },
  {
   "cell_type": "code",
   "execution_count": 63,
   "metadata": {},
   "outputs": [
    {
     "data": {
      "image/png": "[encoded data removed]",
      "text/plain": [
       "<matplotlib.figure.Figure at 0x1fac21b24a8>"
      ]
     },
     "metadata": {},
     "output_type": "display_data"
    }
   ],
   "source": [
    "clusters_diff[top5_diff].apply(lambda x: x/ max(x)).T.plot(kind = 'bar', \n",
    "                                                    figsize = (10, 6),\n",
    "                                                    title = 'Top 5 different features (Scaled), Underrepresented vs. Rest')\n",
    "plt.xticks(rotation = 30)\n",
    "plt.show()"
   ]
  },
  {
   "cell_type": "markdown",
   "metadata": {},
   "source": [
    "Cluster 7 and 2 are significantly under represented. The also have significant differences with the rest of the population"
   ]
  },
  {
   "cell_type": "markdown",
   "metadata": {},
   "source": [
    "In particular, cluster 9 has the following characteristics\n",
    "\n",
    "* Significantly higher number of cars in region (**KBA13_ANZAHL_PKW**), even more than cluster 24   --- Significantly higher income\n",
    "* Significantly Higher value in birth decade (**DECADES**), higher birth year (1973) (**GEBURTSJAHR**) (higher than cluster 7) --- Younger middle-aged population\n",
    "* Life stage (**LP_LEBENSPHASE_FEIN**) number close to 13 ---- Single top earners at higher age\n",
    "\n",
    "Cluster 2 has the following characteristics\n",
    "\n",
    "* Significant lower number of cars in region (**KBA13_ANZAHL_PKW**), even less than cluster 9   --- Significantly lower income\n",
    "* Significantly Higher value in birth decade (**DECADES**), higher birth year (1975) (**GEBURTSJAHR**) (higher than cluster 7) --- Younger middle-aged populatio\n",
    "* Life stage (**LP_LEBENSPHASE_FEIN**) number close to 12 ---- single homeowners at retirement age"
   ]
  },
  {
   "cell_type": "markdown",
   "metadata": {},
   "source": [
    "Two types of individuals are not significantly represented in Arvato's customer base. Those who do not have a family, on the more extreme side of income generation abilities (either extremely rich or pretty poor), are not very interested in Arvato's products. These people are on the younger spectrum of middle aged group. "
   ]
  }
 ],
 "metadata": {
  "kernelspec": {
   "display_name": "Python 3",
   "language": "python",
   "name": "python3"
  },
  "language_info": {
   "codemirror_mode": {
    "name": "ipython",
    "version": 3
   },
   "file_extension": ".py",
   "mimetype": "text/x-python",
   "name": "python",
   "nbconvert_exporter": "python",
   "pygments_lexer": "ipython3",
   "version": "3.6.12"
  }
 },
 "nbformat": 4,
 "nbformat_minor": 2
}
